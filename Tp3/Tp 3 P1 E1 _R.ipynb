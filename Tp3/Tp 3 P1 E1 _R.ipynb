{
 "cells": [
  {
   "attachments": {},
   "cell_type": "markdown",
   "metadata": {},
   "source": [
    "**Partie 1**"
   ]
  },
  {
   "attachments": {},
   "cell_type": "markdown",
   "metadata": {},
   "source": [
    "**Exercice 1   — with rpart**"
   ]
  },
  {
   "attachments": {},
   "cell_type": "markdown",
   "metadata": {},
   "source": [
    "1. Charger la bibliothèque rpart."
   ]
  },
  {
   "cell_type": "code",
   "execution_count": 54,
   "metadata": {
    "vscode": {
     "languageId": "r"
    }
   },
   "outputs": [],
   "source": [
    "library(rpart)"
   ]
  },
  {
   "attachments": {},
   "cell_type": "markdown",
   "metadata": {},
   "source": [
    "2. Chargement du jeu de données tennis."
   ]
  },
  {
   "cell_type": "code",
   "execution_count": 55,
   "metadata": {
    "vscode": {
     "languageId": "r"
    }
   },
   "outputs": [],
   "source": [
    "\n",
    "tennis <- read.table(\"tennum.txt\", header=TRUE)\n"
   ]
  },
  {
   "attachments": {},
   "cell_type": "markdown",
   "metadata": {},
   "source": [
    "3. Afficher la structure des données."
   ]
  },
  {
   "cell_type": "code",
   "execution_count": 56,
   "metadata": {
    "vscode": {
     "languageId": "r"
    }
   },
   "outputs": [
    {
     "name": "stdout",
     "output_type": "stream",
     "text": [
      "'data.frame':\t14 obs. of  5 variables:\n",
      " $ Ciel       : chr  \"Ensoleille\" \"Ensoleille\" \"Couvert\" \"Pluie\" ...\n",
      " $ Temperature: num  27.5 25 26.5 20 19 17.5 17 21 19.5 22.5 ...\n",
      " $ Humidite   : int  85 90 86 96 80 70 65 95 70 80 ...\n",
      " $ Vent       : chr  \"Faible\" \"Fort\" \"Faible\" \"Faible\" ...\n",
      " $ Jouer      : chr  \"Non\" \"Non\" \"Oui\" \"Oui\" ...\n"
     ]
    },
    {
     "data": {
      "text/html": [
       "<table class=\"dataframe\">\n",
       "<caption>A data.frame: 6 × 5</caption>\n",
       "<thead>\n",
       "\t<tr><th></th><th scope=col>Ciel</th><th scope=col>Temperature</th><th scope=col>Humidite</th><th scope=col>Vent</th><th scope=col>Jouer</th></tr>\n",
       "\t<tr><th></th><th scope=col>&lt;chr&gt;</th><th scope=col>&lt;dbl&gt;</th><th scope=col>&lt;int&gt;</th><th scope=col>&lt;chr&gt;</th><th scope=col>&lt;chr&gt;</th></tr>\n",
       "</thead>\n",
       "<tbody>\n",
       "\t<tr><th scope=row>1</th><td>Ensoleille</td><td>27.5</td><td>85</td><td>Faible</td><td>Non</td></tr>\n",
       "\t<tr><th scope=row>2</th><td>Ensoleille</td><td>25.0</td><td>90</td><td>Fort  </td><td>Non</td></tr>\n",
       "\t<tr><th scope=row>3</th><td>Couvert   </td><td>26.5</td><td>86</td><td>Faible</td><td>Oui</td></tr>\n",
       "\t<tr><th scope=row>4</th><td>Pluie     </td><td>20.0</td><td>96</td><td>Faible</td><td>Oui</td></tr>\n",
       "\t<tr><th scope=row>5</th><td>Pluie     </td><td>19.0</td><td>80</td><td>Faible</td><td>Oui</td></tr>\n",
       "\t<tr><th scope=row>6</th><td>Pluie     </td><td>17.5</td><td>70</td><td>Fort  </td><td>Non</td></tr>\n",
       "</tbody>\n",
       "</table>\n"
      ],
      "text/latex": [
       "A data.frame: 6 × 5\n",
       "\\begin{tabular}{r|lllll}\n",
       "  & Ciel & Temperature & Humidite & Vent & Jouer\\\\\n",
       "  & <chr> & <dbl> & <int> & <chr> & <chr>\\\\\n",
       "\\hline\n",
       "\t1 & Ensoleille & 27.5 & 85 & Faible & Non\\\\\n",
       "\t2 & Ensoleille & 25.0 & 90 & Fort   & Non\\\\\n",
       "\t3 & Couvert    & 26.5 & 86 & Faible & Oui\\\\\n",
       "\t4 & Pluie      & 20.0 & 96 & Faible & Oui\\\\\n",
       "\t5 & Pluie      & 19.0 & 80 & Faible & Oui\\\\\n",
       "\t6 & Pluie      & 17.5 & 70 & Fort   & Non\\\\\n",
       "\\end{tabular}\n"
      ],
      "text/markdown": [
       "\n",
       "A data.frame: 6 × 5\n",
       "\n",
       "| <!--/--> | Ciel &lt;chr&gt; | Temperature &lt;dbl&gt; | Humidite &lt;int&gt; | Vent &lt;chr&gt; | Jouer &lt;chr&gt; |\n",
       "|---|---|---|---|---|---|\n",
       "| 1 | Ensoleille | 27.5 | 85 | Faible | Non |\n",
       "| 2 | Ensoleille | 25.0 | 90 | Fort   | Non |\n",
       "| 3 | Couvert    | 26.5 | 86 | Faible | Oui |\n",
       "| 4 | Pluie      | 20.0 | 96 | Faible | Oui |\n",
       "| 5 | Pluie      | 19.0 | 80 | Faible | Oui |\n",
       "| 6 | Pluie      | 17.5 | 70 | Fort   | Non |\n",
       "\n"
      ],
      "text/plain": [
       "  Ciel       Temperature Humidite Vent   Jouer\n",
       "1 Ensoleille 27.5        85       Faible Non  \n",
       "2 Ensoleille 25.0        90       Fort   Non  \n",
       "3 Couvert    26.5        86       Faible Oui  \n",
       "4 Pluie      20.0        96       Faible Oui  \n",
       "5 Pluie      19.0        80       Faible Oui  \n",
       "6 Pluie      17.5        70       Fort   Non  "
      ]
     },
     "metadata": {},
     "output_type": "display_data"
    },
    {
     "data": {
      "text/plain": [
       "     Ciel            Temperature       Humidite         Vent          \n",
       " Length:14          Min.   :17.00   Min.   :65.00   Length:14         \n",
       " Class :character   1st Qu.:19.62   1st Qu.:71.25   Class :character  \n",
       " Mode  :character   Median :21.00   Median :82.50   Mode  :character  \n",
       "                    Mean   :21.79   Mean   :81.64                     \n",
       "                    3rd Qu.:24.38   3rd Qu.:90.00                     \n",
       "                    Max.   :27.50   Max.   :96.00                     \n",
       "    Jouer          \n",
       " Length:14         \n",
       " Class :character  \n",
       " Mode  :character  \n",
       "                   \n",
       "                   \n",
       "                   "
      ]
     },
     "metadata": {},
     "output_type": "display_data"
    }
   ],
   "source": [
    "str(tennis)\n",
    "head(tennis)\n",
    "summary(tennis)"
   ]
  },
  {
   "attachments": {},
   "cell_type": "markdown",
   "metadata": {},
   "source": [
    "4. Créer un arbre avec un nombre minimal d'exemples nécessaires à la création d'un nœud égal à est 1, 2, 5 puis 20."
   ]
  },
  {
   "cell_type": "code",
   "execution_count": 57,
   "metadata": {
    "vscode": {
     "languageId": "r"
    }
   },
   "outputs": [],
   "source": [
    "# Arbre avec minsplit=1\n",
    "tree1 <- rpart(Jouer ~ ., data = tennis, control = rpart.control(minsplit = 1))\n",
    "\n",
    "# Arbre avec minsplit=2\n",
    "tree2 <- rpart(Jouer ~ ., data = tennis, control = rpart.control(minsplit = 2))\n",
    "\n",
    "# Arbre avec minsplit=5\n",
    "tree5 <- rpart(Jouer ~ ., data = tennis, control = rpart.control(minsplit = 5))\n",
    "\n",
    "# Arbre avec minsplit=20\n",
    "tree20 <- rpart(Jouer ~ ., data = tennis, control = rpart.control(minsplit = 20))\n"
   ]
  },
  {
   "attachments": {},
   "cell_type": "markdown",
   "metadata": {},
   "source": [
    "5. Visualiser pour valeur l’arbre correspondant."
   ]
  },
  {
   "cell_type": "code",
   "execution_count": 58,
   "metadata": {
    "vscode": {
     "languageId": "r"
    }
   },
   "outputs": [
    {
     "data": {
      "image/png": "[encoded data removed]",
      "text/plain": [
       "Plot with title “l'arbre avec minsplit=1”"
      ]
     },
     "metadata": {
      "image/png": {
       "height": 420,
       "width": 420
      }
     },
     "output_type": "display_data"
    }
   ],
   "source": [
    "# Visualiser l'arbre avec minsplit=1\n",
    "plot(tree1,main =\"l'arbre avec minsplit=1\")\n",
    "text(tree1)\n"
   ]
  },
  {
   "cell_type": "code",
   "execution_count": 59,
   "metadata": {
    "vscode": {
     "languageId": "r"
    }
   },
   "outputs": [
    {
     "data": {
      "image/png": "[encoded data removed]",
      "text/plain": [
       "Plot with title “l'arbre avec minsplit=2”"
      ]
     },
     "metadata": {
      "image/png": {
       "height": 420,
       "width": 420
      }
     },
     "output_type": "display_data"
    }
   ],
   "source": [
    "\n",
    "# Visualiser l'arbre avec minsplit=2\n",
    "plot(tree2,main =\"l'arbre avec minsplit=2\")\n",
    "text(tree2)\n"
   ]
  },
  {
   "cell_type": "code",
   "execution_count": 60,
   "metadata": {
    "vscode": {
     "languageId": "r"
    }
   },
   "outputs": [
    {
     "data": {
      "image/png": "[encoded data removed]",
      "text/plain": [
       "Plot with title “l'arbre avec minsplit=5”"
      ]
     },
     "metadata": {
      "image/png": {
       "height": 420,
       "width": 420
      }
     },
     "output_type": "display_data"
    }
   ],
   "source": [
    "\n",
    "# Visualiser l'arbre avec minsplit=5\n",
    "plot(tree5,main =\"l'arbre avec minsplit=5\")\n",
    "text(tree5)\n"
   ]
  },
  {
   "cell_type": "code",
   "execution_count": null,
   "metadata": {
    "vscode": {
     "languageId": "r"
    }
   },
   "outputs": [],
   "source": [
    "\n",
    "# Visualiser l'arbre avec minsplit=20\n",
    "plot(tree20,main =\"l'arbre avec minsplit=20\")\n",
    "text(tree20)\n"
   ]
  }
 ],
 "metadata": {
  "kernelspec": {
   "display_name": "R",
   "language": "R",
   "name": "ir"
  },
  "language_info": {
   "codemirror_mode": "r",
   "file_extension": ".r",
   "mimetype": "text/x-r-source",
   "name": "R",
   "pygments_lexer": "r",
   "version": "4.1.2"
  },
  "orig_nbformat": 4
 },
 "nbformat": 4,
 "nbformat_minor": 2
}
