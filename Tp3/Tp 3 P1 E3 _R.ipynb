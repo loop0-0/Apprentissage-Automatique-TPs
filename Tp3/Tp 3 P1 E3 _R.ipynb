{
 "cells": [
  {
   "attachments": {},
   "cell_type": "markdown",
   "metadata": {},
   "source": [
    "**Exercice 3   — with C5.0**"
   ]
  },
  {
   "attachments": {},
   "cell_type": "markdown",
   "metadata": {},
   "source": [
    "1. Charger le fichier credit.csv."
   ]
  },
  {
   "cell_type": "code",
   "execution_count": 94,
   "metadata": {
    "vscode": {
     "languageId": "r"
    }
   },
   "outputs": [],
   "source": [
    "credit <- read.csv(\"credit.csv\", header = TRUE)"
   ]
  },
  {
   "attachments": {},
   "cell_type": "markdown",
   "metadata": {},
   "source": [
    "2. Afficher la structure des données. "
   ]
  },
  {
   "cell_type": "code",
   "execution_count": 95,
   "metadata": {
    "vscode": {
     "languageId": "r"
    }
   },
   "outputs": [
    {
     "name": "stdout",
     "output_type": "stream",
     "text": [
      "'data.frame':\t1000 obs. of  21 variables:\n",
      " $ checking_balance    : chr  \"< 0 DM\" \"1 - 200 DM\" \"unknown\" \"< 0 DM\" ...\n",
      " $ months_loan_duration: int  6 48 12 42 24 36 24 36 12 30 ...\n",
      " $ credit_history      : chr  \"critical\" \"repaid\" \"critical\" \"repaid\" ...\n",
      " $ purpose             : chr  \"radio/tv\" \"radio/tv\" \"education\" \"furniture\" ...\n",
      " $ amount              : int  1169 5951 2096 7882 4870 9055 2835 6948 3059 5234 ...\n",
      " $ savings_balance     : chr  \"unknown\" \"< 100 DM\" \"< 100 DM\" \"< 100 DM\" ...\n",
      " $ employment_length   : chr  \"> 7 yrs\" \"1 - 4 yrs\" \"4 - 7 yrs\" \"4 - 7 yrs\" ...\n",
      " $ installment_rate    : int  4 2 2 2 3 2 3 2 2 4 ...\n",
      " $ personal_status     : chr  \"single male\" \"female\" \"single male\" \"single male\" ...\n",
      " $ other_debtors       : chr  \"none\" \"none\" \"none\" \"guarantor\" ...\n",
      " $ residence_history   : int  4 2 3 4 4 4 4 2 4 2 ...\n",
      " $ property            : chr  \"real estate\" \"real estate\" \"real estate\" \"building society savings\" ...\n",
      " $ age                 : int  67 22 49 45 53 35 53 35 61 28 ...\n",
      " $ installment_plan    : chr  \"none\" \"none\" \"none\" \"none\" ...\n",
      " $ housing             : chr  \"own\" \"own\" \"own\" \"for free\" ...\n",
      " $ existing_credits    : int  2 1 1 1 2 1 1 1 1 2 ...\n",
      " $ job                 : chr  \"skilled employee\" \"skilled employee\" \"unskilled resident\" \"skilled employee\" ...\n",
      " $ dependents          : int  1 1 2 2 2 2 1 1 1 1 ...\n",
      " $ telephone           : chr  \"yes\" \"none\" \"none\" \"none\" ...\n",
      " $ foreign_worker      : chr  \"yes\" \"yes\" \"yes\" \"yes\" ...\n",
      " $ default             : int  1 2 1 1 2 1 1 1 1 2 ...\n"
     ]
    }
   ],
   "source": [
    "str(credit)\n"
   ]
  },
  {
   "attachments": {},
   "cell_type": "markdown",
   "metadata": {},
   "source": [
    "3. Afficher  le  nombre  d’occurrences  des  intervalles  de  checking_balance  et  de  \n",
    "savings_balance. "
   ]
  },
  {
   "cell_type": "code",
   "execution_count": 96,
   "metadata": {
    "vscode": {
     "languageId": "r"
    }
   },
   "outputs": [
    {
     "data": {
      "text/plain": [
       "\n",
       "    < 0 DM   > 200 DM 1 - 200 DM    unknown \n",
       "       274         63        269        394 "
      ]
     },
     "metadata": {},
     "output_type": "display_data"
    },
    {
     "data": {
      "text/plain": [
       "\n",
       "     < 100 DM     > 1000 DM  101 - 500 DM 501 - 1000 DM       unknown \n",
       "          603            48           103            63           183 "
      ]
     },
     "metadata": {},
     "output_type": "display_data"
    }
   ],
   "source": [
    "table(credit$checking_balance)\n",
    "table(credit$savings_balance)"
   ]
  },
  {
   "attachments": {},
   "cell_type": "markdown",
   "metadata": {},
   "source": [
    "4. Afficher les statistiques de months_loan_duration. "
   ]
  },
  {
   "cell_type": "code",
   "execution_count": 97,
   "metadata": {
    "vscode": {
     "languageId": "r"
    }
   },
   "outputs": [
    {
     "data": {
      "text/plain": [
       "   Min. 1st Qu.  Median    Mean 3rd Qu.    Max. \n",
       "    4.0    12.0    18.0    20.9    24.0    72.0 "
      ]
     },
     "metadata": {},
     "output_type": "display_data"
    }
   ],
   "source": [
    "summary(credit$months_loan_duration)\n"
   ]
  },
  {
   "attachments": {},
   "cell_type": "markdown",
   "metadata": {},
   "source": [
    "5. Afficher les statistiques de amount."
   ]
  },
  {
   "cell_type": "code",
   "execution_count": 98,
   "metadata": {
    "vscode": {
     "languageId": "r"
    }
   },
   "outputs": [
    {
     "data": {
      "text/plain": [
       "   Min. 1st Qu.  Median    Mean 3rd Qu.    Max. \n",
       "    250    1366    2320    3271    3972   18424 "
      ]
     },
     "metadata": {},
     "output_type": "display_data"
    }
   ],
   "source": [
    "summary(credit$amount)\n"
   ]
  },
  {
   "attachments": {},
   "cell_type": "markdown",
   "metadata": {},
   "source": [
    "6. Donner les proportions relatives aux payements et non payement du crédit."
   ]
  },
  {
   "cell_type": "code",
   "execution_count": 99,
   "metadata": {
    "vscode": {
     "languageId": "r"
    }
   },
   "outputs": [
    {
     "data": {
      "text/html": [],
      "text/latex": [],
      "text/markdown": [],
      "text/plain": [
       "numeric(0)"
      ]
     },
     "metadata": {},
     "output_type": "display_data"
    }
   ],
   "source": [
    "prop.table(table(credit$credit_risk))\n"
   ]
  },
  {
   "attachments": {},
   "cell_type": "markdown",
   "metadata": {},
   "source": [
    "7. Répartir les données credit.csv en 90% pour l’apprentissage et 10% pour les tests."
   ]
  },
  {
   "cell_type": "code",
   "execution_count": 100,
   "metadata": {
    "vscode": {
     "languageId": "r"
    }
   },
   "outputs": [],
   "source": [
    "set.seed(123)\n",
    "indices <- sample(1:nrow(credit), size = round(nrow(credit) * 0.9), replace = FALSE)\n",
    "train_data <- credit[indices, ]\n",
    "test_data <- credit[-indices, ]\n"
   ]
  },
  {
   "attachments": {},
   "cell_type": "markdown",
   "metadata": {},
   "source": [
    "8. Vérifier les proportions par la commande prop.table."
   ]
  },
  {
   "cell_type": "code",
   "execution_count": 101,
   "metadata": {
    "vscode": {
     "languageId": "r"
    }
   },
   "outputs": [
    {
     "data": {
      "text/html": [],
      "text/latex": [],
      "text/markdown": [],
      "text/plain": [
       "numeric(0)"
      ]
     },
     "metadata": {},
     "output_type": "display_data"
    },
    {
     "data": {
      "text/html": [],
      "text/latex": [],
      "text/markdown": [],
      "text/plain": [
       "numeric(0)"
      ]
     },
     "metadata": {},
     "output_type": "display_data"
    }
   ],
   "source": [
    "prop.table(table(train_data$credit_risk))\n",
    "prop.table(table(test_data$credit_risk))\n",
    "\n"
   ]
  },
  {
   "attachments": {},
   "cell_type": "markdown",
   "metadata": {},
   "source": [
    "9. Installer le package C5.0."
   ]
  },
  {
   "cell_type": "code",
   "execution_count": 102,
   "metadata": {
    "vscode": {
     "languageId": "r"
    }
   },
   "outputs": [],
   "source": [
    "#install.packages(\"C50\")"
   ]
  },
  {
   "attachments": {},
   "cell_type": "markdown",
   "metadata": {},
   "source": [
    "10. Créer un modèle d’arbre de décision par C5.0"
   ]
  },
  {
   "cell_type": "code",
   "execution_count": 103,
   "metadata": {
    "vscode": {
     "languageId": "r"
    }
   },
   "outputs": [],
   "source": [
    "library(C50)\n",
    "train_data$default <- as.factor(train_data$default)\n",
    "model <- C5.0(default ~ ., data = train_data)\n",
    "\n"
   ]
  },
  {
   "attachments": {},
   "cell_type": "markdown",
   "metadata": {},
   "source": [
    "11. Evaluer le modèle d’apprentissage. "
   ]
  },
  {
   "cell_type": "code",
   "execution_count": 104,
   "metadata": {
    "vscode": {
     "languageId": "r"
    }
   },
   "outputs": [
    {
     "data": {
      "text/plain": [
       "\n",
       "Call:\n",
       "C5.0.formula(formula = default ~ ., data = train_data)\n",
       "\n",
       "\n",
       "C5.0 [Release 2.07 GPL Edition]  \tSat Apr  8 01:36:36 2023\n",
       "-------------------------------\n",
       "\n",
       "Class specified by attribute `outcome'\n",
       "\n",
       "Read 900 cases (21 attributes) from undefined.data\n",
       "\n",
       "Decision tree:\n",
       "\n",
       "checking_balance in {unknown,> 200 DM}: 1 (412/54)\n",
       "checking_balance in {< 0 DM,1 - 200 DM}:\n",
       ":...credit_history in {fully repaid this bank,fully repaid}:\n",
       "    :...housing = rent: 2 (16/1)\n",
       "    :   housing = for free:\n",
       "    :   :...other_debtors in {none,guarantor}: 2 (12/1)\n",
       "    :   :   other_debtors = co-applicant: 1 (2)\n",
       "    :   housing = own:\n",
       "    :   :...purpose in {radio/tv,education,repairs,domestic appliances,\n",
       "    :       :           others}: 2 (6/1)\n",
       "    :       purpose in {car (used),business,retraining}: 1 (10/2)\n",
       "    :       purpose = car (new):\n",
       "    :       :...months_loan_duration <= 22: 2 (6)\n",
       "    :       :   months_loan_duration > 22: 1 (2)\n",
       "    :       purpose = furniture:\n",
       "    :       :...installment_plan in {none,stores}: 1 (4)\n",
       "    :           installment_plan = bank: 2 (5/1)\n",
       "    credit_history in {repaid,critical,delayed}:\n",
       "    :...months_loan_duration <= 15: 1 (180/45)\n",
       "        months_loan_duration > 15:\n",
       "        :...savings_balance in {unknown,> 1000 DM}:\n",
       "            :...credit_history in {critical,delayed}: 1 (14)\n",
       "            :   credit_history = repaid:\n",
       "            :   :...purpose = car (new): 2 (7/1)\n",
       "            :       purpose in {business,education,repairs,domestic appliances,\n",
       "            :       :           retraining,others}: 1 (5)\n",
       "            :       purpose = furniture:\n",
       "            :       :...age <= 27: 2 (2)\n",
       "            :       :   age > 27: 1 (5)\n",
       "            :       purpose = radio/tv:\n",
       "            :       :...amount <= 6110: 1 (5)\n",
       "            :       :   amount > 6110: 2 (2)\n",
       "            :       purpose = car (used):\n",
       "            :       :...amount <= 6967: 1 (4)\n",
       "            :           amount > 6967: 2 (2)\n",
       "            savings_balance in {< 100 DM,101 - 500 DM,501 - 1000 DM}:\n",
       "            :...months_loan_duration > 47: 2 (23/3)\n",
       "                months_loan_duration <= 47:\n",
       "                :...employment_length = 0 - 1 yrs:\n",
       "                    :...residence_history <= 1: 1 (16/6)\n",
       "                    :   residence_history > 1: 2 (27/6)\n",
       "                    employment_length = unemployed:\n",
       "                    :...residence_history <= 2: 2 (7)\n",
       "                    :   residence_history > 2: 1 (12/2)\n",
       "                    employment_length = > 7 yrs:\n",
       "                    :...purpose = car (new): 2 (11/3)\n",
       "                    :   purpose in {radio/tv,car (used),education,repairs,\n",
       "                    :   :           domestic appliances,retraining,\n",
       "                    :   :           others}: 1 (13/1)\n",
       "                    :   purpose = furniture:\n",
       "                    :   :...job in {skilled employee,unskilled resident,\n",
       "                    :   :   :       unemployed non-resident}: 1 (5/1)\n",
       "                    :   :   job = mangement self-employed: 2 (2)\n",
       "                    :   purpose = business:\n",
       "                    :   :...personal_status in {female,divorced male}: 2 (3)\n",
       "                    :       personal_status in {single male,\n",
       "                    :                           married male}: 1 (3)\n",
       "                    employment_length = 1 - 4 yrs:\n",
       "                    :...installment_rate > 3: 2 (20/3)\n",
       "                    :   installment_rate <= 3:\n",
       "                    :   :...other_debtors = guarantor: 1 (2)\n",
       "                    :       other_debtors = co-applicant: 2 (3)\n",
       "                    :       other_debtors = none:\n",
       "                    :       :...checking_balance = 1 - 200 DM: 1 (8/1)\n",
       "                    :           checking_balance = < 0 DM: [S1]\n",
       "                    employment_length = 4 - 7 yrs:\n",
       "                    :...savings_balance in {101 - 500 DM,\n",
       "                        :                   501 - 1000 DM}: 1 (8)\n",
       "                        savings_balance = < 100 DM:\n",
       "                        :...job in {mangement self-employed,unskilled resident,\n",
       "                            :       unemployed non-resident}: 1 (6)\n",
       "                            job = skilled employee:\n",
       "                            :...dependents > 1: 1 (3/1)\n",
       "                                dependents <= 1:\n",
       "                                :...months_loan_duration <= 22: 1 (3)\n",
       "                                    months_loan_duration > 22: 2 (8)\n",
       "\n",
       "SubTree [S1]\n",
       "\n",
       "personal_status in {female,single male}: 2 (13/3)\n",
       "personal_status in {married male,divorced male}: 1 (3)\n",
       "\n",
       "\n",
       "Evaluation on training data (900 cases):\n",
       "\n",
       "\t    Decision Tree   \n",
       "\t  ----------------  \n",
       "\t  Size      Errors  \n",
       "\n",
       "\t    42  136(15.1%)   <<\n",
       "\n",
       "\n",
       "\t   (a)   (b)    <-classified as\n",
       "\t  ----  ----\n",
       "\t   612    23    (a): class 1\n",
       "\t   113   152    (b): class 2\n",
       "\n",
       "\n",
       "\tAttribute usage:\n",
       "\n",
       "\t100.00%\tchecking_balance\n",
       "\t 54.22%\tcredit_history\n",
       "\t 48.11%\tmonths_loan_duration\n",
       "\t 27.22%\tsavings_balance\n",
       "\t 19.56%\temployment_length\n",
       "\t 11.33%\tpurpose\n",
       "\t  7.00%\thousing\n",
       "\t  6.89%\tresidence_history\n",
       "\t  5.44%\tinstallment_rate\n",
       "\t  4.78%\tother_debtors\n",
       "\t  3.00%\tjob\n",
       "\t  2.44%\tpersonal_status\n",
       "\t  1.56%\tdependents\n",
       "\t  1.44%\tamount\n",
       "\t  1.00%\tinstallment_plan\n",
       "\t  0.78%\tage\n",
       "\n",
       "\n",
       "Time: 0.0 secs\n"
      ]
     },
     "metadata": {},
     "output_type": "display_data"
    }
   ],
   "source": [
    "predictions <- predict(model, newdata = test_data)\n",
    "summary(model)\n",
    "\n"
   ]
  },
  {
   "attachments": {},
   "cell_type": "markdown",
   "metadata": {},
   "source": [
    "12. Installer la bibliothèque gmodels."
   ]
  },
  {
   "cell_type": "code",
   "execution_count": 105,
   "metadata": {
    "vscode": {
     "languageId": "r"
    }
   },
   "outputs": [],
   "source": [
    "#install.packages(\"gmodels\")\n"
   ]
  },
  {
   "attachments": {},
   "cell_type": "markdown",
   "metadata": {},
   "source": [
    "13. Utiliser la fonction CrossTable pour évaluer le modèle"
   ]
  },
  {
   "cell_type": "code",
   "execution_count": 107,
   "metadata": {
    "vscode": {
     "languageId": "r"
    }
   },
   "outputs": [
    {
     "name": "stdout",
     "output_type": "stream",
     "text": [
      "\n",
      " \n",
      "   Cell Contents\n",
      "|-------------------------|\n",
      "|                       N |\n",
      "|         N / Table Total |\n",
      "|-------------------------|\n",
      "\n",
      " \n",
      "Total Observations in Table:  100 \n",
      "\n",
      " \n",
      "             | predicted \n",
      "      actual |         1 |         2 | Row Total | \n",
      "-------------|-----------|-----------|-----------|\n",
      "           1 |        55 |        10 |        65 | \n",
      "             |     0.550 |     0.100 |           | \n",
      "-------------|-----------|-----------|-----------|\n",
      "           2 |        22 |        13 |        35 | \n",
      "             |     0.220 |     0.130 |           | \n",
      "-------------|-----------|-----------|-----------|\n",
      "Column Total |        77 |        23 |       100 | \n",
      "-------------|-----------|-----------|-----------|\n",
      "\n",
      " \n"
     ]
    }
   ],
   "source": [
    "library(gmodels)\n",
    "CrossTable(test$default, predicted, prop.chisq = FALSE, prop.c = FALSE, prop.r = FALSE, dnn = c('actual', 'predicted'))\n"
   ]
  }
 ],
 "metadata": {
  "kernelspec": {
   "display_name": "R",
   "language": "R",
   "name": "ir"
  },
  "language_info": {
   "codemirror_mode": "r",
   "file_extension": ".r",
   "mimetype": "text/x-r-source",
   "name": "R",
   "pygments_lexer": "r",
   "version": "4.1.2"
  },
  "orig_nbformat": 4
 },
 "nbformat": 4,
 "nbformat_minor": 2
}
