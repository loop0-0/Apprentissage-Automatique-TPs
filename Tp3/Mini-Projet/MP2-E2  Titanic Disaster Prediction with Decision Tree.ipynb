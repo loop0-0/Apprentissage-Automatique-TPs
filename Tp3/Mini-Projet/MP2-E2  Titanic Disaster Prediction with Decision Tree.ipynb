{
 "cells": [
  {
   "attachments": {},
   "cell_type": "markdown",
   "metadata": {},
   "source": [
    "**Exercice 2   — Titanic Disaster Prediction with Decision Tree**"
   ]
  },
  {
   "attachments": {},
   "cell_type": "markdown",
   "metadata": {},
   "source": [
    "1.  Charger les données du titanic."
   ]
  },
  {
   "cell_type": "code",
   "execution_count": 41,
   "metadata": {},
   "outputs": [],
   "source": [
    "import pandas as pd\n",
    "\n",
    "train_data = pd.read_csv('train.csv')\n",
    "test_data = pd.read_csv('test.csv')\n"
   ]
  },
  {
   "attachments": {},
   "cell_type": "markdown",
   "metadata": {},
   "source": [
    "2.  Afficher les informations concernant les données."
   ]
  },
  {
   "cell_type": "code",
   "execution_count": 42,
   "metadata": {},
   "outputs": [
    {
     "name": "stdout",
     "output_type": "stream",
     "text": [
      "<class 'pandas.core.frame.DataFrame'>\n",
      "RangeIndex: 891 entries, 0 to 890\n",
      "Data columns (total 12 columns):\n",
      " #   Column       Non-Null Count  Dtype  \n",
      "---  ------       --------------  -----  \n",
      " 0   PassengerId  891 non-null    int64  \n",
      " 1   Survived     891 non-null    int64  \n",
      " 2   Pclass       891 non-null    int64  \n",
      " 3   Name         891 non-null    object \n",
      " 4   Sex          891 non-null    object \n",
      " 5   Age          714 non-null    float64\n",
      " 6   SibSp        891 non-null    int64  \n",
      " 7   Parch        891 non-null    int64  \n",
      " 8   Ticket       891 non-null    object \n",
      " 9   Fare         891 non-null    float64\n",
      " 10  Cabin        204 non-null    object \n",
      " 11  Embarked     889 non-null    object \n",
      "dtypes: float64(2), int64(5), object(5)\n",
      "memory usage: 83.7+ KB\n"
     ]
    }
   ],
   "source": [
    "train_data.info()"
   ]
  },
  {
   "attachments": {},
   "cell_type": "markdown",
   "metadata": {},
   "source": [
    "3.  Proposer deux modèles basés sur les arbres de décisions."
   ]
  },
  {
   "attachments": {},
   "cell_type": "markdown",
   "metadata": {},
   "source": [
    "les variables X_train, y_train, X_test et y_test, nous devons d'abord prétraiter les données en effectuant les étapes suivantes:\n",
    "\n",
    ".Supprimer les colonnes inutiles telles que PassengerId, Name, Ticket et Cabin.\n",
    "\n",
    ".Convertir les variables catégorielles Sex et Embarked en forme numérique.\n",
    "\n",
    ".Remplir les valeurs manquantes pour les colonnes Age et Fare."
   ]
  },
  {
   "cell_type": "code",
   "execution_count": 43,
   "metadata": {},
   "outputs": [],
   "source": [
    "from sklearn.model_selection import train_test_split\n",
    "from sklearn.preprocessing import LabelEncoder\n",
    "\n",
    "# Load the data\n",
    "train_data = pd.read_csv('train.csv')\n",
    "test_data = pd.read_csv('test.csv')\n",
    "\n",
    "# Remove unnecessary columns\n",
    "train_data.drop(['PassengerId', 'Name', 'Ticket', 'Cabin'], axis=1, inplace=True)\n",
    "test_data.drop(['PassengerId', 'Name', 'Ticket', 'Cabin'], axis=1, inplace=True)\n",
    "\n",
    "# Convert categorical variables into numerical form\n",
    "label_encoder = LabelEncoder()\n",
    "train_data['Sex'] = label_encoder.fit_transform(train_data['Sex'])\n",
    "train_data['Embarked'] = label_encoder.fit_transform(train_data['Embarked'].fillna('Unknown'))\n",
    "test_data['Sex'] = label_encoder.fit_transform(test_data['Sex'])\n",
    "test_data['Embarked'] = label_encoder.fit_transform(test_data['Embarked'].fillna('Unknown'))\n",
    "\n",
    "# Fill in missing values\n",
    "train_data['Age'].fillna(train_data['Age'].median(), inplace=True)\n",
    "train_data['Fare'].fillna(train_data['Fare'].median(), inplace=True)\n",
    "test_data['Age'].fillna(test_data['Age'].median(), inplace=True)\n",
    "test_data['Fare'].fillna(test_data['Fare'].median(), inplace=True)\n",
    "\n",
    "# Define the variables\n",
    "X_train = train_data.drop('Survived', axis=1)\n",
    "y_train = train_data['Survived']\n",
    "X_test = test_data\n",
    "y_test = pd.read_csv('gender_submission.csv')['Survived']"
   ]
  },
  {
   "attachments": {},
   "cell_type": "markdown",
   "metadata": {},
   "source": [
    "Modèle CART :"
   ]
  },
  {
   "cell_type": "code",
   "execution_count": 44,
   "metadata": {},
   "outputs": [],
   "source": [
    "from sklearn.tree import DecisionTreeClassifier\n",
    "\n",
    "# Créer un modèle CART\n",
    "cart_model = DecisionTreeClassifier(random_state=42)\n",
    "\n",
    "# Entraîner le modèle sur les données d'entraînement\n",
    "cart_model.fit(X_train, y_train)\n",
    "\n",
    "# Faire des prédictions sur les données de test\n",
    "y_pred_cart = cart_model.predict(X_test)\n"
   ]
  },
  {
   "attachments": {},
   "cell_type": "markdown",
   "metadata": {},
   "source": [
    "Modèle MARS"
   ]
  },
  {
   "cell_type": "code",
   "execution_count": 45,
   "metadata": {},
   "outputs": [],
   "source": [
    "from sklearn.experimental import enable_hist_gradient_boosting\n",
    "from sklearn.ensemble import HistGradientBoostingClassifier\n",
    "\n",
    "# Créer un modèle MARS\n",
    "mars_model = HistGradientBoostingClassifier(random_state=42)\n",
    "\n",
    "# Entraîner le modèle sur les données d'entraînement\n",
    "mars_model.fit(X_train, y_train)\n",
    "\n",
    "# Faire des prédictions sur les données de test\n",
    "y_pred_mars = mars_model.predict(X_test)\n"
   ]
  },
  {
   "attachments": {},
   "cell_type": "markdown",
   "metadata": {},
   "source": [
    "4.  Comparer ces deux modèles avec la régression logistique"
   ]
  },
  {
   "cell_type": "code",
   "execution_count": 46,
   "metadata": {},
   "outputs": [],
   "source": [
    "from sklearn.linear_model import LogisticRegression\n",
    "\n",
    "# Créer un objet de modèle de régression logistique\n",
    "logreg = LogisticRegression()\n",
    "\n",
    "# Entraîner le modèle sur les données d'entraînement\n",
    "logreg.fit(X_train, y_train)\n",
    "\n",
    "# Faire des prédictions sur les données de test\n",
    "y_pred_logistic = logreg.predict(X_test)\n",
    "\n"
   ]
  },
  {
   "cell_type": "code",
   "execution_count": 47,
   "metadata": {},
   "outputs": [
    {
     "name": "stdout",
     "output_type": "stream",
     "text": [
      "Accuracy score:\n",
      "CART: 0.7488038277511961\n",
      "MARS: 0.84688995215311\n",
      "Logistic Regression: 0.9401913875598086\n",
      "\n",
      "Precision score:\n",
      "CART: 0.6256684491978609\n",
      "MARS: 0.7972972972972973\n",
      "Logistic Regression: 0.9044585987261147\n",
      "\n",
      "Recall score:\n",
      "CART: 0.7697368421052632\n",
      "MARS: 0.7763157894736842\n",
      "Logistic Regression: 0.9342105263157895\n",
      "\n",
      "F1 score:\n",
      "CART: 0.6902654867256637\n",
      "MARS: 0.7866666666666666\n",
      "Logistic Regression: 0.919093851132686\n"
     ]
    }
   ],
   "source": [
    "from sklearn.metrics import f1_score, precision_score, recall_score ,accuracy_score\n",
    "\n",
    "\n",
    "print(\"Accuracy score:\")\n",
    "print(\"CART:\", accuracy_score(y_test, y_pred_cart))\n",
    "print(\"MARS:\", accuracy_score(y_test, y_pred_mars))\n",
    "print(\"Logistic Regression:\", accuracy_score(y_test, y_pred_logistic))\n",
    "\n",
    "print(\"\\nPrecision score:\")\n",
    "print(\"CART:\", precision_score(y_test, y_pred_cart))\n",
    "print(\"MARS:\", precision_score(y_test, y_pred_mars))\n",
    "print(\"Logistic Regression:\", precision_score(y_test, y_pred_logistic))\n",
    "\n",
    "print(\"\\nRecall score:\")\n",
    "print(\"CART:\", recall_score(y_test, y_pred_cart))\n",
    "print(\"MARS:\", recall_score(y_test, y_pred_mars))\n",
    "print(\"Logistic Regression:\", recall_score(y_test, y_pred_logistic))\n",
    "\n",
    "print(\"\\nF1 score:\")\n",
    "print(\"CART:\", f1_score(y_test, y_pred_cart))\n",
    "print(\"MARS:\", f1_score(y_test, y_pred_mars))\n",
    "print(\"Logistic Regression:\", f1_score(y_test, y_pred_logistic))\n",
    "\n",
    "\n",
    "\n",
    "\n",
    "\n"
   ]
  },
  {
   "attachments": {},
   "cell_type": "markdown",
   "metadata": {},
   "source": [
    "5.  Visualiser les résultats comparatifs graphiquement."
   ]
  },
  {
   "cell_type": "code",
   "execution_count": 48,
   "metadata": {},
   "outputs": [
    {
     "data": {
      "image/png": "[encoded data removed]",
      "text/plain": [
       "<Figure size 1000x800 with 4 Axes>"
      ]
     },
     "metadata": {},
     "output_type": "display_data"
    }
   ],
   "source": [
    "import matplotlib.pyplot as plt\n",
    "\n",
    "# Accuracy scores\n",
    "accuracy_scores = [accuracy_score(y_test, y_pred_cart), accuracy_score(y_test, y_pred_mars), accuracy_score(y_test, y_pred_logistic)]\n",
    "# Precision scores\n",
    "precision_scores = [precision_score(y_test, y_pred_cart), precision_score(y_test, y_pred_mars), precision_score(y_test, y_pred_logistic)]\n",
    "# Recall scores\n",
    "recall_scores = [recall_score(y_test, y_pred_cart), recall_score(y_test, y_pred_mars), recall_score(y_test, y_pred_logistic)]\n",
    "# F1 scores\n",
    "f1_scores = [f1_score(y_test, y_pred_cart), f1_score(y_test, y_pred_mars), f1_score(y_test, y_pred_logistic)]\n",
    "\n",
    "# Labels for x-axis\n",
    "labels = [\"CART\", \"MARS\", \"Logistic Regression\"]\n",
    "\n",
    "# Creating subplots\n",
    "fig, axs = plt.subplots(2, 2, figsize=(10, 8))\n",
    "\n",
    "# Bar chart for accuracy scores\n",
    "axs[0, 0].bar(labels, accuracy_scores)\n",
    "axs[0, 0].set_title(\"Accuracy scores\")\n",
    "\n",
    "# Bar chart for precision scores\n",
    "axs[0, 1].bar(labels, precision_scores)\n",
    "axs[0, 1].set_title(\"Precision scores\")\n",
    "\n",
    "# Bar chart for recall scores\n",
    "axs[1, 0].bar(labels, recall_scores)\n",
    "axs[1, 0].set_title(\"Recall scores\")\n",
    "\n",
    "# Bar chart for F1 scores\n",
    "axs[1, 1].bar(labels, f1_scores)\n",
    "axs[1, 1].set_title(\"F1 scores\")\n",
    "\n",
    "# Adjusting layout\n",
    "plt.tight_layout()\n",
    "\n",
    "# Displaying the plot\n",
    "plt.show()\n"
   ]
  },
  {
   "attachments": {},
   "cell_type": "markdown",
   "metadata": {},
   "source": [
    "6.  Conclusion"
   ]
  },
  {
   "attachments": {},
   "cell_type": "markdown",
   "metadata": {},
   "source": [
    "En comparant les trois modèles, nous pouvons voir que la régression logistique donne les meilleurs résultats en termes d'accuracy score, de precision score, de recall score et de F1 score. Cela signifie que la régression logistique est le modèle le plus performant pour prédire si un passager a survécu ou non au naufrage du Titanic, parmi les modèles CART, MARS et la régression logistique que nous avons testés"
   ]
  }
 ],
 "metadata": {
  "kernelspec": {
   "display_name": "Python 3",
   "language": "python",
   "name": "python3"
  },
  "language_info": {
   "codemirror_mode": {
    "name": "ipython",
    "version": 3
   },
   "file_extension": ".py",
   "mimetype": "text/x-python",
   "name": "python",
   "nbconvert_exporter": "python",
   "pygments_lexer": "ipython3",
   "version": "3.10.6"
  },
  "orig_nbformat": 4
 },
 "nbformat": 4,
 "nbformat_minor": 2
}
