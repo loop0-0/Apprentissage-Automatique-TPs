{
 "cells": [
  {
   "attachments": {},
   "cell_type": "markdown",
   "metadata": {},
   "source": [
    "**Exercice 1   — Diabet Prediction with Decision Tree**"
   ]
  },
  {
   "attachments": {},
   "cell_type": "markdown",
   "metadata": {},
   "source": [
    "1.  Charger les données “diabetes.csv”"
   ]
  },
  {
   "cell_type": "code",
   "execution_count": 23,
   "metadata": {},
   "outputs": [],
   "source": [
    "import pandas as pd\n",
    "\n",
    "# Charger les données diabetes.csv\n",
    "data = pd.read_csv(\"diabetes.csv\")\n",
    "\n"
   ]
  },
  {
   "attachments": {},
   "cell_type": "markdown",
   "metadata": {},
   "source": [
    "2.  Afficher quelques images."
   ]
  },
  {
   "cell_type": "code",
   "execution_count": 24,
   "metadata": {},
   "outputs": [
    {
     "name": "stdout",
     "output_type": "stream",
     "text": [
      "   Pregnancies  Glucose  BloodPressure  SkinThickness  Insulin   BMI  \\\n",
      "0            6      148             72             35        0  33.6   \n",
      "1            1       85             66             29        0  26.6   \n",
      "2            8      183             64              0        0  23.3   \n",
      "3            1       89             66             23       94  28.1   \n",
      "4            0      137             40             35      168  43.1   \n",
      "\n",
      "   DiabetesPedigreeFunction  Age  Outcome  \n",
      "0                     0.627   50        1  \n",
      "1                     0.351   31        0  \n",
      "2                     0.672   32        1  \n",
      "3                     0.167   21        0  \n",
      "4                     2.288   33        1  \n",
      "<class 'pandas.core.frame.DataFrame'>\n",
      "RangeIndex: 768 entries, 0 to 767\n",
      "Data columns (total 9 columns):\n",
      " #   Column                    Non-Null Count  Dtype  \n",
      "---  ------                    --------------  -----  \n",
      " 0   Pregnancies               768 non-null    int64  \n",
      " 1   Glucose                   768 non-null    int64  \n",
      " 2   BloodPressure             768 non-null    int64  \n",
      " 3   SkinThickness             768 non-null    int64  \n",
      " 4   Insulin                   768 non-null    int64  \n",
      " 5   BMI                       768 non-null    float64\n",
      " 6   DiabetesPedigreeFunction  768 non-null    float64\n",
      " 7   Age                       768 non-null    int64  \n",
      " 8   Outcome                   768 non-null    int64  \n",
      "dtypes: float64(2), int64(7)\n",
      "memory usage: 54.1 KB\n",
      "None\n",
      "       Pregnancies     Glucose  BloodPressure  SkinThickness     Insulin  \\\n",
      "count   768.000000  768.000000     768.000000     768.000000  768.000000   \n",
      "mean      3.845052  120.894531      69.105469      20.536458   79.799479   \n",
      "std       3.369578   31.972618      19.355807      15.952218  115.244002   \n",
      "min       0.000000    0.000000       0.000000       0.000000    0.000000   \n",
      "25%       1.000000   99.000000      62.000000       0.000000    0.000000   \n",
      "50%       3.000000  117.000000      72.000000      23.000000   30.500000   \n",
      "75%       6.000000  140.250000      80.000000      32.000000  127.250000   \n",
      "max      17.000000  199.000000     122.000000      99.000000  846.000000   \n",
      "\n",
      "              BMI  DiabetesPedigreeFunction         Age     Outcome  \n",
      "count  768.000000                768.000000  768.000000  768.000000  \n",
      "mean    31.992578                  0.471876   33.240885    0.348958  \n",
      "std      7.884160                  0.331329   11.760232    0.476951  \n",
      "min      0.000000                  0.078000   21.000000    0.000000  \n",
      "25%     27.300000                  0.243750   24.000000    0.000000  \n",
      "50%     32.000000                  0.372500   29.000000    0.000000  \n",
      "75%     36.600000                  0.626250   41.000000    1.000000  \n",
      "max     67.100000                  2.420000   81.000000    1.000000  \n"
     ]
    }
   ],
   "source": [
    "print(data.head())\n",
    "\n",
    "print(data.info())\n",
    "\n",
    "print(data.describe())"
   ]
  },
  {
   "attachments": {},
   "cell_type": "markdown",
   "metadata": {},
   "source": [
    "3.  Proposer deux modèles basés sur les arbres de décisions."
   ]
  },
  {
   "cell_type": "code",
   "execution_count": 25,
   "metadata": {},
   "outputs": [],
   "source": [
    "from sklearn.tree import DecisionTreeClassifier\n",
    "from sklearn.model_selection import train_test_split\n",
    "\n",
    "# Diviser les données en ensembles de formation et de test\n",
    "X = data.drop('Outcome', axis=1)\n",
    "y = data['Outcome']\n",
    "X_train, X_test, y_train, y_test = train_test_split(X, y, test_size=0.2, random_state=42)\n"
   ]
  },
  {
   "attachments": {},
   "cell_type": "markdown",
   "metadata": {},
   "source": [
    "le modèle CART"
   ]
  },
  {
   "cell_type": "code",
   "execution_count": 26,
   "metadata": {},
   "outputs": [],
   "source": [
    "\n",
    "\n",
    "cart_model = DecisionTreeClassifier(criterion='gini', max_depth=3, random_state=42)\n",
    "\n",
    "# Ajuster le modèle sur les données d'entraînement\n",
    "cart_model.fit(X_train, y_train)\n",
    "\n",
    "# Prédire la classe des données de test\n",
    "y_pred_cart = cart_model.predict(X_test)\n",
    "\n",
    "# Évaluer les performances du modèle\n",
    "from sklearn.metrics import accuracy_score\n"
   ]
  },
  {
   "attachments": {},
   "cell_type": "markdown",
   "metadata": {},
   "source": [
    "le modèle GINI"
   ]
  },
  {
   "cell_type": "code",
   "execution_count": 27,
   "metadata": {},
   "outputs": [],
   "source": [
    "\n",
    "gini_model = DecisionTreeClassifier(criterion='entropy', max_depth=3, random_state=42)\n",
    "\n",
    "# Ajuster le modèle sur les données d'entraînement\n",
    "gini_model.fit(X_train, y_train)\n",
    "\n",
    "# Prédire la classe des données de test\n",
    "y_pred_gini = gini_model.predict(X_test)\n",
    "\n"
   ]
  },
  {
   "attachments": {},
   "cell_type": "markdown",
   "metadata": {},
   "source": [
    "4.  Comparer ces deux modèles avec la régression logistique"
   ]
  },
  {
   "cell_type": "code",
   "execution_count": 28,
   "metadata": {},
   "outputs": [
    {
     "name": "stderr",
     "output_type": "stream",
     "text": [
      "/home/o/.local/lib/python3.10/site-packages/sklearn/linear_model/_logistic.py:458: ConvergenceWarning: lbfgs failed to converge (status=1):\n",
      "STOP: TOTAL NO. of ITERATIONS REACHED LIMIT.\n",
      "\n",
      "Increase the number of iterations (max_iter) or scale the data as shown in:\n",
      "    https://scikit-learn.org/stable/modules/preprocessing.html\n",
      "Please also refer to the documentation for alternative solver options:\n",
      "    https://scikit-learn.org/stable/modules/linear_model.html#logistic-regression\n",
      "  n_iter_i = _check_optimize_result(\n"
     ]
    }
   ],
   "source": [
    "from sklearn.linear_model import LogisticRegression\n",
    "\n",
    "# Créer le modèle de régression logistique\n",
    "logistic_model = LogisticRegression(random_state=42)\n",
    "\n",
    "# Ajuster le modèle sur les données d'entraînement\n",
    "logistic_model.fit(X_train, y_train)\n",
    "\n",
    "# Prédire la classe des données de test\n",
    "y_pred_logistic = logistic_model.predict(X_test)\n",
    "\n"
   ]
  },
  {
   "cell_type": "code",
   "execution_count": 29,
   "metadata": {},
   "outputs": [
    {
     "name": "stdout",
     "output_type": "stream",
     "text": [
      "Accuracy score:\n",
      "CART: 0.7597402597402597\n",
      "Gini: 0.7662337662337663\n",
      "Logistic Regression: 0.7402597402597403\n",
      "\n",
      "Precision score:\n",
      "CART: 0.68\n",
      "Gini: 0.6862745098039216\n",
      "Logistic Regression: 0.631578947368421\n",
      "\n",
      "Recall score:\n",
      "CART: 0.6181818181818182\n",
      "Gini: 0.6363636363636364\n",
      "Logistic Regression: 0.6545454545454545\n",
      "\n",
      "F1 score:\n",
      "CART: 0.6476190476190475\n",
      "Gini: 0.660377358490566\n",
      "Logistic Regression: 0.6428571428571428\n"
     ]
    }
   ],
   "source": [
    "from sklearn.metrics import f1_score, precision_score, recall_score\n",
    "\n",
    "\n",
    "print(\"Accuracy score:\")\n",
    "print(\"CART:\", accuracy_score(y_test, y_pred_cart))\n",
    "print(\"Gini:\", accuracy_score(y_test, y_pred_gini))\n",
    "print(\"Logistic Regression:\", accuracy_score(y_test, y_pred_logistic))\n",
    "\n",
    "print(\"\\nPrecision score:\")\n",
    "print(\"CART:\", precision_score(y_test, y_pred_cart))\n",
    "print(\"Gini:\", precision_score(y_test, y_pred_gini))\n",
    "print(\"Logistic Regression:\", precision_score(y_test, y_pred_logistic))\n",
    "\n",
    "print(\"\\nRecall score:\")\n",
    "print(\"CART:\", recall_score(y_test, y_pred_cart))\n",
    "print(\"Gini:\", recall_score(y_test, y_pred_gini))\n",
    "print(\"Logistic Regression:\", recall_score(y_test, y_pred_logistic))\n",
    "\n",
    "print(\"\\nF1 score:\")\n",
    "print(\"CART:\", f1_score(y_test, y_pred_cart))\n",
    "print(\"Gini:\", f1_score(y_test, y_pred_gini))\n",
    "print(\"Logistic Regression:\", f1_score(y_test, y_pred_logistic))\n",
    "\n",
    "\n",
    "\n",
    "\n",
    "\n"
   ]
  },
  {
   "attachments": {},
   "cell_type": "markdown",
   "metadata": {},
   "source": [
    "5.  Visualiser les résultats comparatifs graphiquement."
   ]
  },
  {
   "cell_type": "code",
   "execution_count": 32,
   "metadata": {},
   "outputs": [
    {
     "data": {
      "image/png": "[encoded data removed]",
      "text/plain": [
       "<Figure size 1000x800 with 4 Axes>"
      ]
     },
     "metadata": {},
     "output_type": "display_data"
    }
   ],
   "source": [
    "import matplotlib.pyplot as plt\n",
    "\n",
    "# Accuracy scores\n",
    "accuracy_scores = [accuracy_score(y_test, y_pred_cart), accuracy_score(y_test, y_pred_gini), accuracy_score(y_test, y_pred_logistic)]\n",
    "# Precision scores\n",
    "precision_scores = [precision_score(y_test, y_pred_cart), precision_score(y_test, y_pred_gini), precision_score(y_test, y_pred_logistic)]\n",
    "# Recall scores\n",
    "recall_scores = [recall_score(y_test, y_pred_cart), recall_score(y_test, y_pred_gini), recall_score(y_test, y_pred_logistic)]\n",
    "# F1 scores\n",
    "f1_scores = [f1_score(y_test, y_pred_cart), f1_score(y_test, y_pred_gini), f1_score(y_test, y_pred_logistic)]\n",
    "\n",
    "# Labels for x-axis\n",
    "labels = [\"CART\", \"Gini\", \"Logistic Regression\"]\n",
    "\n",
    "# Creating subplots\n",
    "fig, axs = plt.subplots(2, 2, figsize=(10, 8))\n",
    "\n",
    "# Bar chart for accuracy scores\n",
    "axs[0, 0].bar(labels, accuracy_scores)\n",
    "axs[0, 0].set_title(\"Accuracy scores\")\n",
    "\n",
    "# Bar chart for precision scores\n",
    "axs[0, 1].bar(labels, precision_scores)\n",
    "axs[0, 1].set_title(\"Precision scores\")\n",
    "\n",
    "# Bar chart for recall scores\n",
    "axs[1, 0].bar(labels, recall_scores)\n",
    "axs[1, 0].set_title(\"Recall scores\")\n",
    "\n",
    "# Bar chart for F1 scores\n",
    "axs[1, 1].bar(labels, f1_scores)\n",
    "axs[1, 1].set_title(\"F1 scores\")\n",
    "\n",
    "# Adjusting layout\n",
    "plt.tight_layout()\n",
    "\n",
    "# Displaying the plot\n",
    "plt.show()\n"
   ]
  },
  {
   "attachments": {},
   "cell_type": "markdown",
   "metadata": {},
   "source": [
    "6.  Conclusion"
   ]
  },
  {
   "attachments": {},
   "cell_type": "markdown",
   "metadata": {},
   "source": [
    "on peut conclure que les modèles basés sur les arbres de décision (CART et Gini) ont une performance légèrement supérieure à celle de la régression logistique pour prédire le diabète chez les patients. Cependant, la différence entre les scores est assez faible, donc il peut être intéressant de tester d'autres modèles ou de procéder à une sélection de caractéristiques pour améliorer encore la performance de la classification. Il convient également de noter que ces résultats peuvent varier selon la méthode de validation utilisée et le jeu de données utilisé."
   ]
  }
 ],
 "metadata": {
  "kernelspec": {
   "display_name": "Python 3",
   "language": "python",
   "name": "python3"
  },
  "language_info": {
   "codemirror_mode": {
    "name": "ipython",
    "version": 3
   },
   "file_extension": ".py",
   "mimetype": "text/x-python",
   "name": "python",
   "nbconvert_exporter": "python",
   "pygments_lexer": "ipython3",
   "version": "3.10.6"
  },
  "orig_nbformat": 4
 },
 "nbformat": 4,
 "nbformat_minor": 2
}
