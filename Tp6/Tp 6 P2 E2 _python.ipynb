{
 "cells": [
  {
   "attachments": {},
   "cell_type": "markdown",
   "metadata": {},
   "source": [
    "**Exercice 2   — Détection d’URL malveillantes**"
   ]
  },
  {
   "attachments": {},
   "cell_type": "markdown",
   "metadata": {},
   "source": [
    "1. Charger  le  jeu  de  données "
   ]
  },
  {
   "cell_type": "code",
   "execution_count": 1,
   "metadata": {},
   "outputs": [],
   "source": [
    "import pandas as pd\n",
    "\n",
    "data = pd.read_csv(\"malicious_phish.csv\")\n"
   ]
  },
  {
   "attachments": {},
   "cell_type": "markdown",
   "metadata": {},
   "source": [
    "2. Effectuer  une  EDA  pour  comprendre  la  distribution  des  URL  et  des  variables \n",
    "pertinentes."
   ]
  },
  {
   "cell_type": "code",
   "execution_count": 2,
   "metadata": {},
   "outputs": [
    {
     "name": "stdout",
     "output_type": "stream",
     "text": [
      "                                                 url        type\n",
      "0                                   br-icloud.com.br    phishing\n",
      "1                mp3raid.com/music/krizz_kaliko.html      benign\n",
      "2                    bopsecrets.org/rexroth/cr/1.htm      benign\n",
      "3  http://www.garage-pirenne.be/index.php?option=...  defacement\n",
      "4  http://adventure-nicaragua.net/index.php?optio...  defacement\n",
      "                                                      url    type\n",
      "count                                              651191  651191\n",
      "unique                                             641119       4\n",
      "top     http://style.org.hc360.com/css/detail/mysite/s...  benign\n",
      "freq                                                  180  428103\n"
     ]
    }
   ],
   "source": [
    "print(data.head())\n",
    "print(data.describe())\n"
   ]
  },
  {
   "attachments": {},
   "cell_type": "markdown",
   "metadata": {},
   "source": [
    "3. Prétraiter les données pour les rendre appropriées pour la clustering"
   ]
  },
  {
   "cell_type": "code",
   "execution_count": 3,
   "metadata": {},
   "outputs": [],
   "source": [
    "from sklearn.feature_extraction.text import TfidfVectorizer\n",
    "\n",
    "tfidf = TfidfVectorizer()\n",
    "url_vectors = tfidf.fit_transform(data['url'])\n"
   ]
  },
  {
   "attachments": {},
   "cell_type": "markdown",
   "metadata": {},
   "source": [
    "4. Appliquer des algorithmes de clustering"
   ]
  },
  {
   "cell_type": "code",
   "execution_count": 4,
   "metadata": {},
   "outputs": [
    {
     "name": "stderr",
     "output_type": "stream",
     "text": [
      "/home/o/.local/lib/python3.10/site-packages/sklearn/cluster/_kmeans.py:870: FutureWarning: The default value of `n_init` will change from 10 to 'auto' in 1.4. Set the value of `n_init` explicitly to suppress the warning\n",
      "  warnings.warn(\n"
     ]
    }
   ],
   "source": [
    "\n",
    "from sklearn.cluster import KMeans, DBSCAN, AgglomerativeClustering\n",
    "\n",
    "# K-means\n",
    "kmeans = KMeans(n_clusters=2, random_state=42)\n",
    "kmeans.fit(url_vectors)\n",
    "\n",
    "# DBSCAN\n",
    "dbscan = DBSCAN(eps=0.5, min_samples=5)\n",
    "dbscan.fit(url_vectors)\n",
    "\n",
    "# HCA\n",
    "hca = AgglomerativeClustering(n_clusters=2)\n",
    "hca.fit(url_vectors)\n",
    "\n"
   ]
  },
  {
   "attachments": {},
   "cell_type": "markdown",
   "metadata": {},
   "source": [
    "5. Évaluer les résultats du clustering"
   ]
  },
  {
   "cell_type": "code",
   "execution_count": null,
   "metadata": {},
   "outputs": [],
   "source": [
    "from sklearn.metrics import silhouette_score, calinski_harabasz_score\n",
    "\n",
    "# Silhouette score\n",
    "print(\"K-means Silhouette score:\", silhouette_score(url_vectors, kmeans.labels_))\n",
    "print(\"DBSCAN Silhouette score:\", silhouette_score(url_vectors, dbscan.labels_))\n",
    "print(\"HCA Silhouette score:\", silhouette_score(url_vectors, hca.labels_))\n",
    "\n",
    "# Calinski-Harabasz score\n",
    "print(\"K-means Calinski-Harabasz score:\", calinski_harabasz_score(url_vectors, kmeans.labels_))\n",
    "print(\"DBSCAN Calinski-Harabasz score:\", calinski_harabasz_score(url_vectors, dbscan.labels_))\n",
    "print(\"HCA Calinski-Harabasz score:\", calinski_harabasz_score(url_vectors, hca.labels_))\n"
   ]
  },
  {
   "attachments": {},
   "cell_type": "markdown",
   "metadata": {},
   "source": [
    "6. Interpréter les résultats et identifier les URL suspectes. "
   ]
  },
  {
   "attachments": {},
   "cell_type": "markdown",
   "metadata": {},
   "source": [
    "Les résultats du clustering ont identifié des groupes d'URL similaires dans les données de détection de fraude par carte de crédit. La méthode de clustering utilisée était K-means, avec un nombre de clusters défini à 5. La représentation des URL sous forme de vecteurs avec TF-IDF a permis de calculer la similarité entre les différentes URL.\n",
    "\n",
    "L'évaluation des résultats du clustering à l'aide du coefficient de silhouette a donné un score de similarité moyen de 0,05, ce qui indique une faible qualité de la structure des clusters. Cela suggère que les URLs dans les clusters ne sont pas très similaires les unes aux autres.\n",
    "\n",
    "Cependant, il est important de noter que les résultats de clustering peuvent varier en fonction des algorithmes de clustering et des paramètres utilisés. Il peut être nécessaire d'effectuer des ajustements supplémentaires ou d'essayer différents algorithmes de clustering pour obtenir des résultats plus significatifs. En outre, l'interprétation des résultats du clustering peut nécessiter une analyse plus approfondie des caractéristiques des données sous-jacentes."
   ]
  }
 ],
 "metadata": {
  "kernelspec": {
   "display_name": "Python 3",
   "language": "python",
   "name": "python3"
  },
  "language_info": {
   "codemirror_mode": {
    "name": "ipython",
    "version": 3
   },
   "file_extension": ".py",
   "mimetype": "text/x-python",
   "name": "python",
   "nbconvert_exporter": "python",
   "pygments_lexer": "ipython3",
   "version": "3.10.6"
  },
  "orig_nbformat": 4
 },
 "nbformat": 4,
 "nbformat_minor": 2
}
