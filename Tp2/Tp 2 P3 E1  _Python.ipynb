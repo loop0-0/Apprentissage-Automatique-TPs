{
  "cells": [
    {
      "cell_type": "markdown",
      "metadata": {
        "id": "6AYosBY4dceB"
      },
      "source": [
        "**Partie III : Utilisation de Python**"
      ]
    },
    {
      "cell_type": "markdown",
      "metadata": {
        "id": "-0hRT4SldceN"
      },
      "source": [
        "Exercice 1 —  Régression logistique des chiffres"
      ]
    },
    {
      "cell_type": "markdown",
      "metadata": {
        "id": "2XJCjXhOdcem"
      },
      "source": [
        "1. Chargez les données (jeu de données numériques)."
      ]
    },
    {
      "cell_type": "code",
      "execution_count": 10,
      "metadata": {
        "id": "XtrIoHr6dcen"
      },
      "outputs": [],
      "source": [
        "from sklearn.datasets import load_digits\n",
        "import matplotlib.pyplot as plt\n",
        "\n",
        "# Charger les données\n",
        "digits = load_digits()\n",
        "\n",
        "\n"
      ]
    },
    {
      "cell_type": "markdown",
      "metadata": {
        "id": "SCNFAm0rdcer"
      },
      "source": [
        "2. Affichez les images et les étiquettes (jeu de données numériques)."
      ]
    },
    {
      "cell_type": "code",
      "execution_count": 11,
      "metadata": {
        "colab": {
          "base_uri": "https://localhost:8080/",
          "height": 264
        },
        "id": "j_R-L6Zydces",
        "outputId": "661494d8-b20e-467b-9910-ea9a334a9ce9"
      },
      "outputs": [
        {
          "output_type": "display_data",
          "data": {
            "text/plain": [
              "<Figure size 720x288 with 40 Axes>"
            ],
            "image/png": "[encoded data removed]"
          },
          "metadata": {}
        }
      ],
      "source": [
        "# Afficher les images et les étiquettes\n",
        "fig, axes = plt.subplots(nrows=4, ncols=10, figsize=(10, 4))\n",
        "\n",
        "for i, ax in enumerate(axes.flat):\n",
        "    ax.imshow(digits.images[i], cmap='binary')\n",
        "    ax.set_xticks([])\n",
        "    ax.set_yticks([])\n",
        "    ax.set_title(digits.target[i])\n",
        "    \n",
        "plt.show()\n"
      ]
    },
    {
      "cell_type": "markdown",
      "metadata": {
        "id": "X8_v0G4xdceu"
      },
      "source": [
        "3. Fractionnez les données en ensembles d’entrainement et de test (jeu de données de \n",
        "chiffres)."
      ]
    },
    {
      "cell_type": "code",
      "execution_count": 12,
      "metadata": {
        "id": "i0IfpLybdceu"
      },
      "outputs": [],
      "source": [
        "from sklearn.model_selection import train_test_split\n",
        "\n",
        "X_train, X_test, y_train, y_test = train_test_split(digits.data, digits.target, test_size=0.2, random_state=42)\n",
        "\n"
      ]
    },
    {
      "cell_type": "markdown",
      "metadata": {
        "id": "F_qc332zdcew"
      },
      "source": [
        "4. Créez un Modèle d’apprentissage (jeu de données de chiffres) : "
      ]
    },
    {
      "cell_type": "code",
      "execution_count": 13,
      "metadata": {
        "colab": {
          "base_uri": "https://localhost:8080/"
        },
        "id": "u_V61NoDdcew",
        "outputId": "dc990b54-b726-4a86-f38a-863310c6a7ab"
      },
      "outputs": [
        {
          "output_type": "stream",
          "name": "stderr",
          "text": [
            "/usr/local/lib/python3.9/dist-packages/sklearn/linear_model/_logistic.py:458: ConvergenceWarning: lbfgs failed to converge (status=1):\n",
            "STOP: TOTAL NO. of ITERATIONS REACHED LIMIT.\n",
            "\n",
            "Increase the number of iterations (max_iter) or scale the data as shown in:\n",
            "    https://scikit-learn.org/stable/modules/preprocessing.html\n",
            "Please also refer to the documentation for alternative solver options:\n",
            "    https://scikit-learn.org/stable/modules/linear_model.html#logistic-regression\n",
            "  n_iter_i = _check_optimize_result(\n"
          ]
        }
      ],
      "source": [
        "\n",
        "from sklearn.linear_model import LogisticRegression\n",
        "\n",
        "# Créer une instance du modèle de régression logistique\n",
        "model = LogisticRegression()\n",
        "\n",
        "# Former le modèle sur les données d'entraînement\n",
        "model.fit(X_train, y_train)\n",
        "\n",
        "# Prédire les étiquettes des données de test\n",
        "y_pred = model.predict(X_test)\n",
        "\n"
      ]
    },
    {
      "cell_type": "markdown",
      "metadata": {
        "id": "skSSnf4Idcex"
      },
      "source": [
        "5. Mesurez la performance du modèle (jeu de données numériques)."
      ]
    },
    {
      "cell_type": "code",
      "execution_count": 9,
      "metadata": {
        "colab": {
          "base_uri": "https://localhost:8080/"
        },
        "id": "5AiFYrQ3dcey",
        "outputId": "9328a45b-2de5-4f8d-c696-731cc991f22b"
      },
      "outputs": [
        {
          "output_type": "stream",
          "name": "stdout",
          "text": [
            "Précision : 0.97\n",
            "Rappel : 0.97\n",
            "F-mesure : 0.97\n"
          ]
        }
      ],
      "source": [
        "from sklearn.metrics import accuracy_score, precision_score, recall_score, f1_score, confusion_matrix\n",
        "\n",
        "# Calculer la précision du modèle\n",
        "precision = precision_score(y_test, y_pred, average='weighted')\n",
        "\n",
        "# Calculer le rappel du modèle\n",
        "recall = recall_score(y_test, y_pred, average='weighted')\n",
        "\n",
        "# Calculer la F-mesure du modèle\n",
        "f1 = f1_score(y_test, y_pred, average='weighted')\n",
        "\n",
        "\n",
        "# Afficher les résultats\n",
        "print(\"Précision : {:.2f}\".format(precision))\n",
        "print(\"Rappel : {:.2f}\".format(recall))\n",
        "print(\"F-mesure : {:.2f}\".format(f1))\n",
        "\n"
      ]
    },
    {
      "cell_type": "markdown",
      "metadata": {
        "id": "niUACy7Udcez"
      },
      "source": [
        "6. Donner matrice de confusion (jeu de données numériques). Expliquez"
      ]
    },
    {
      "cell_type": "code",
      "execution_count": 14,
      "metadata": {
        "colab": {
          "base_uri": "https://localhost:8080/"
        },
        "id": "uH4ScV23dce0",
        "outputId": "695f43a6-a152-4e70-8b00-340667bf2460"
      },
      "outputs": [
        {
          "output_type": "stream",
          "name": "stdout",
          "text": [
            "Matrice de confusion :\n",
            "[[33  0  0  0  0  0  0  0  0  0]\n",
            " [ 0 28  0  0  0  0  0  0  0  0]\n",
            " [ 0  0 33  0  0  0  0  0  0  0]\n",
            " [ 0  0  0 33  0  1  0  0  0  0]\n",
            " [ 0  1  0  0 44  0  1  0  0  0]\n",
            " [ 0  0  1  0  0 44  1  0  0  1]\n",
            " [ 0  0  0  0  0  1 34  0  0  0]\n",
            " [ 0  0  0  0  0  1  0 33  0  0]\n",
            " [ 0  0  0  0  0  1  0  0 29  0]\n",
            " [ 0  0  0  1  0  0  0  0  1 38]]\n"
          ]
        }
      ],
      "source": [
        "from sklearn.metrics import confusion_matrix\n",
        "\n",
        "# Afficher la matrice de confusion\n",
        "confusion_matrix = confusion_matrix(y_test, y_pred)\n",
        "print(\"Matrice de confusion :\")\n",
        "print(confusion_matrix)\n"
      ]
    },
    {
      "cell_type": "markdown",
      "metadata": {
        "id": "O33HHYiudce0"
      },
      "source": [
        "La matrice de confusion a des valeurs sur sa diagonale principale qui correspondent au nombre de prédictions correctes pour chaque classe. Les valeurs en dehors de la diagonale principale correspondent au nombre de prédictions incorrectes. La matrice de confusion peut être utilisée pour évaluer la performance du modèle pour chaque classe"
      ]
    }
  ],
  "metadata": {
    "kernelspec": {
      "display_name": "Python 3",
      "language": "python",
      "name": "python3"
    },
    "language_info": {
      "codemirror_mode": {
        "name": "ipython",
        "version": 3
      },
      "file_extension": ".py",
      "mimetype": "text/x-python",
      "name": "python",
      "nbconvert_exporter": "python",
      "pygments_lexer": "ipython3",
      "version": "3.10.6"
    },
    "orig_nbformat": 4,
    "colab": {
      "provenance": []
    }
  },
  "nbformat": 4,
  "nbformat_minor": 0
}