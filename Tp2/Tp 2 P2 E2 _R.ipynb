{
 "cells": [
  {
   "attachments": {},
   "cell_type": "markdown",
   "metadata": {},
   "source": [
    "**Partie II — Utilisation de R**"
   ]
  },
  {
   "attachments": {},
   "cell_type": "markdown",
   "metadata": {},
   "source": [
    "Exercice 2  —  Modèle Logistique Multiple"
   ]
  },
  {
   "attachments": {},
   "cell_type": "markdown",
   "metadata": {},
   "source": [
    "8. Charger et afficher les données."
   ]
  },
  {
   "cell_type": "code",
   "execution_count": 19,
   "metadata": {
    "vscode": {
     "languageId": "r"
    }
   },
   "outputs": [
    {
     "data": {
      "text/html": [
       "<table class=\"dataframe\">\n",
       "<caption>A data.frame: 6 × 4</caption>\n",
       "<thead>\n",
       "\t<tr><th></th><th scope=col>default</th><th scope=col>student</th><th scope=col>balance</th><th scope=col>income</th></tr>\n",
       "\t<tr><th></th><th scope=col>&lt;fct&gt;</th><th scope=col>&lt;fct&gt;</th><th scope=col>&lt;dbl&gt;</th><th scope=col>&lt;dbl&gt;</th></tr>\n",
       "</thead>\n",
       "<tbody>\n",
       "\t<tr><th scope=row>1</th><td>No</td><td>No </td><td> 729.5265</td><td>44361.625</td></tr>\n",
       "\t<tr><th scope=row>2</th><td>No</td><td>Yes</td><td> 817.1804</td><td>12106.135</td></tr>\n",
       "\t<tr><th scope=row>3</th><td>No</td><td>No </td><td>1073.5492</td><td>31767.139</td></tr>\n",
       "\t<tr><th scope=row>4</th><td>No</td><td>No </td><td> 529.2506</td><td>35704.494</td></tr>\n",
       "\t<tr><th scope=row>5</th><td>No</td><td>No </td><td> 785.6559</td><td>38463.496</td></tr>\n",
       "\t<tr><th scope=row>6</th><td>No</td><td>Yes</td><td> 919.5885</td><td> 7491.559</td></tr>\n",
       "</tbody>\n",
       "</table>\n"
      ],
      "text/latex": [
       "A data.frame: 6 × 4\n",
       "\\begin{tabular}{r|llll}\n",
       "  & default & student & balance & income\\\\\n",
       "  & <fct> & <fct> & <dbl> & <dbl>\\\\\n",
       "\\hline\n",
       "\t1 & No & No  &  729.5265 & 44361.625\\\\\n",
       "\t2 & No & Yes &  817.1804 & 12106.135\\\\\n",
       "\t3 & No & No  & 1073.5492 & 31767.139\\\\\n",
       "\t4 & No & No  &  529.2506 & 35704.494\\\\\n",
       "\t5 & No & No  &  785.6559 & 38463.496\\\\\n",
       "\t6 & No & Yes &  919.5885 &  7491.559\\\\\n",
       "\\end{tabular}\n"
      ],
      "text/markdown": [
       "\n",
       "A data.frame: 6 × 4\n",
       "\n",
       "| <!--/--> | default &lt;fct&gt; | student &lt;fct&gt; | balance &lt;dbl&gt; | income &lt;dbl&gt; |\n",
       "|---|---|---|---|---|\n",
       "| 1 | No | No  |  729.5265 | 44361.625 |\n",
       "| 2 | No | Yes |  817.1804 | 12106.135 |\n",
       "| 3 | No | No  | 1073.5492 | 31767.139 |\n",
       "| 4 | No | No  |  529.2506 | 35704.494 |\n",
       "| 5 | No | No  |  785.6559 | 38463.496 |\n",
       "| 6 | No | Yes |  919.5885 |  7491.559 |\n",
       "\n"
      ],
      "text/plain": [
       "  default student balance   income   \n",
       "1 No      No       729.5265 44361.625\n",
       "2 No      Yes      817.1804 12106.135\n",
       "3 No      No      1073.5492 31767.139\n",
       "4 No      No       529.2506 35704.494\n",
       "5 No      No       785.6559 38463.496\n",
       "6 No      Yes      919.5885  7491.559"
      ]
     },
     "metadata": {},
     "output_type": "display_data"
    }
   ],
   "source": [
    "#install.packages(\"ISLR\")\n",
    "library(ISLR)\n",
    "data(Default)\n",
    "\n",
    "# Afficher les 6 premières lignes de la base Defaut\n",
    "head(Default)\n"
   ]
  },
  {
   "attachments": {},
   "cell_type": "markdown",
   "metadata": {},
   "source": [
    "9. Commenter les données en utilisant la fonction summary."
   ]
  },
  {
   "cell_type": "code",
   "execution_count": 20,
   "metadata": {
    "vscode": {
     "languageId": "r"
    }
   },
   "outputs": [
    {
     "data": {
      "text/plain": [
       " default    student       balance           income     \n",
       " No :9667   No :7056   Min.   :   0.0   Min.   :  772  \n",
       " Yes: 333   Yes:2944   1st Qu.: 481.7   1st Qu.:21340  \n",
       "                       Median : 823.6   Median :34553  \n",
       "                       Mean   : 835.4   Mean   :33517  \n",
       "                       3rd Qu.:1166.3   3rd Qu.:43808  \n",
       "                       Max.   :2654.3   Max.   :73554  "
      ]
     },
     "metadata": {},
     "output_type": "display_data"
    }
   ],
   "source": [
    "summary(Default)"
   ]
  },
  {
   "attachments": {},
   "cell_type": "markdown",
   "metadata": {},
   "source": [
    "\n",
    "-La variable \"default\" est une variable catégorielle binaire qui indique si le client est en défaut (Yes/No). Le résumé indique que 3,33% des clients sont en défaut.\n",
    "\n",
    "-La variable \"student\" est une variable catégorielle binaire qui indique si le client est un étudiant (Yes/No) Le résumé indique que la plupart des clients ne sont pas étudiants (la médiane est de 0).\n",
    "\n",
    "-La variable \"balance\" est continue et représente le montant moyen mensuel d'utilisation de la carte de crédit. Le résumé montre que les montants d'utilisation varient de 0 à 2654,32 avec une moyenne de 835,37. Le premier quartile est à 72,25, ce qui suggère que la plupart des clients ont des soldes relativement faibles.\n",
    "\n",
    "-La variable \"income\" est continue et représente le revenu du client. Le résumé montre que les revenus varient de 772 à 73554,2, avec une moyenne de 33516,9. Le premier quartile est de 21340,5, ce qui suggère que la plupart des clients ont des revenus relativement faibles."
   ]
  },
  {
   "attachments": {},
   "cell_type": "markdown",
   "metadata": {},
   "source": [
    "10. Afin de faciliter le traitement, vous devez transformation de la variable default à 0 \n",
    "si Non et 1 si Yes."
   ]
  },
  {
   "cell_type": "code",
   "execution_count": 21,
   "metadata": {
    "vscode": {
     "languageId": "r"
    }
   },
   "outputs": [
    {
     "data": {
      "text/html": [
       "<table class=\"dataframe\">\n",
       "<caption>A data.frame: 6 × 4</caption>\n",
       "<thead>\n",
       "\t<tr><th></th><th scope=col>default</th><th scope=col>student</th><th scope=col>balance</th><th scope=col>income</th></tr>\n",
       "\t<tr><th></th><th scope=col>&lt;dbl&gt;</th><th scope=col>&lt;fct&gt;</th><th scope=col>&lt;dbl&gt;</th><th scope=col>&lt;dbl&gt;</th></tr>\n",
       "</thead>\n",
       "<tbody>\n",
       "\t<tr><th scope=row>1</th><td>0</td><td>No </td><td> 729.5265</td><td>44361.625</td></tr>\n",
       "\t<tr><th scope=row>2</th><td>0</td><td>Yes</td><td> 817.1804</td><td>12106.135</td></tr>\n",
       "\t<tr><th scope=row>3</th><td>0</td><td>No </td><td>1073.5492</td><td>31767.139</td></tr>\n",
       "\t<tr><th scope=row>4</th><td>0</td><td>No </td><td> 529.2506</td><td>35704.494</td></tr>\n",
       "\t<tr><th scope=row>5</th><td>0</td><td>No </td><td> 785.6559</td><td>38463.496</td></tr>\n",
       "\t<tr><th scope=row>6</th><td>0</td><td>Yes</td><td> 919.5885</td><td> 7491.559</td></tr>\n",
       "</tbody>\n",
       "</table>\n"
      ],
      "text/latex": [
       "A data.frame: 6 × 4\n",
       "\\begin{tabular}{r|llll}\n",
       "  & default & student & balance & income\\\\\n",
       "  & <dbl> & <fct> & <dbl> & <dbl>\\\\\n",
       "\\hline\n",
       "\t1 & 0 & No  &  729.5265 & 44361.625\\\\\n",
       "\t2 & 0 & Yes &  817.1804 & 12106.135\\\\\n",
       "\t3 & 0 & No  & 1073.5492 & 31767.139\\\\\n",
       "\t4 & 0 & No  &  529.2506 & 35704.494\\\\\n",
       "\t5 & 0 & No  &  785.6559 & 38463.496\\\\\n",
       "\t6 & 0 & Yes &  919.5885 &  7491.559\\\\\n",
       "\\end{tabular}\n"
      ],
      "text/markdown": [
       "\n",
       "A data.frame: 6 × 4\n",
       "\n",
       "| <!--/--> | default &lt;dbl&gt; | student &lt;fct&gt; | balance &lt;dbl&gt; | income &lt;dbl&gt; |\n",
       "|---|---|---|---|---|\n",
       "| 1 | 0 | No  |  729.5265 | 44361.625 |\n",
       "| 2 | 0 | Yes |  817.1804 | 12106.135 |\n",
       "| 3 | 0 | No  | 1073.5492 | 31767.139 |\n",
       "| 4 | 0 | No  |  529.2506 | 35704.494 |\n",
       "| 5 | 0 | No  |  785.6559 | 38463.496 |\n",
       "| 6 | 0 | Yes |  919.5885 |  7491.559 |\n",
       "\n"
      ],
      "text/plain": [
       "  default student balance   income   \n",
       "1 0       No       729.5265 44361.625\n",
       "2 0       Yes      817.1804 12106.135\n",
       "3 0       No      1073.5492 31767.139\n",
       "4 0       No       529.2506 35704.494\n",
       "5 0       No       785.6559 38463.496\n",
       "6 0       Yes      919.5885  7491.559"
      ]
     },
     "metadata": {},
     "output_type": "display_data"
    }
   ],
   "source": [
    "Default$default <- ifelse(Default$default == \"No\", 0, 1)\n",
    "\n",
    "head(Default)\n"
   ]
  },
  {
   "attachments": {},
   "cell_type": "markdown",
   "metadata": {},
   "source": [
    "11. Construire  un  modèle  de  régression  logistique  avec  la  variable  balance  comme \n",
    "variable explicative qualitative. Commenter."
   ]
  },
  {
   "cell_type": "code",
   "execution_count": 22,
   "metadata": {
    "vscode": {
     "languageId": "r"
    }
   },
   "outputs": [
    {
     "data": {
      "text/plain": [
       "\n",
       "Call:\n",
       "glm(formula = default ~ balance, family = binomial, data = Default)\n",
       "\n",
       "Deviance Residuals: \n",
       "    Min       1Q   Median       3Q      Max  \n",
       "-2.2697  -0.1465  -0.0589  -0.0221   3.7589  \n",
       "\n",
       "Coefficients:\n",
       "              Estimate Std. Error z value Pr(>|z|)    \n",
       "(Intercept) -1.065e+01  3.612e-01  -29.49   <2e-16 ***\n",
       "balance      5.499e-03  2.204e-04   24.95   <2e-16 ***\n",
       "---\n",
       "Signif. codes:  0 ‘***’ 0.001 ‘**’ 0.01 ‘*’ 0.05 ‘.’ 0.1 ‘ ’ 1\n",
       "\n",
       "(Dispersion parameter for binomial family taken to be 1)\n",
       "\n",
       "    Null deviance: 2920.6  on 9999  degrees of freedom\n",
       "Residual deviance: 1596.5  on 9998  degrees of freedom\n",
       "AIC: 1600.5\n",
       "\n",
       "Number of Fisher Scoring iterations: 8\n"
      ]
     },
     "metadata": {},
     "output_type": "display_data"
    }
   ],
   "source": [
    "model1 <- glm(default ~ balance, data = Default, family = binomial)\n",
    "summary(model1)\n"
   ]
  },
  {
   "attachments": {},
   "cell_type": "markdown",
   "metadata": {},
   "source": [
    "Le modèle indique que la variable balance est significative avec un coefficient estimé de 0,0055 et un p-value très faible (inférieur à 2.2e-16). Cela signifie que l'augmentation de la balance est associée à une augmentation de la probabilité de défaut sur la dette de carte de crédit."
   ]
  },
  {
   "cell_type": "code",
   "execution_count": 23,
   "metadata": {
    "vscode": {
     "languageId": "r"
    }
   },
   "outputs": [
    {
     "data": {
      "text/html": [
       "<style>\n",
       ".dl-inline {width: auto; margin:0; padding: 0}\n",
       ".dl-inline>dt, .dl-inline>dd {float: none; width: auto; display: inline-block}\n",
       ".dl-inline>dt::after {content: \":\\0020\"; padding-right: .5ex}\n",
       ".dl-inline>dt:not(:first-of-type) {padding-left: .5ex}\n",
       "</style><dl class=dl-inline><dt>1</dt><dd>0.00575214508582019</dd><dt>2</dt><dd>0.0829476237984787</dd><dt>3</dt><dd>0.585769369615354</dd><dt>4</dt><dd>0.997115227160765</dd></dl>\n"
      ],
      "text/latex": [
       "\\begin{description*}\n",
       "\\item[1] 0.00575214508582019\n",
       "\\item[2] 0.0829476237984787\n",
       "\\item[3] 0.585769369615354\n",
       "\\item[4] 0.997115227160765\n",
       "\\end{description*}\n"
      ],
      "text/markdown": [
       "1\n",
       ":   0.005752145085820192\n",
       ":   0.08294762379847873\n",
       ":   0.5857693696153544\n",
       ":   0.997115227160765\n",
       "\n"
      ],
      "text/plain": [
       "          1           2           3           4 \n",
       "0.005752145 0.082947624 0.585769370 0.997115227 "
      ]
     },
     "metadata": {},
     "output_type": "display_data"
    }
   ],
   "source": [
    "newdata <- data.frame(balance = c(1000, 1500, 2000, 3000))\n",
    "prob <- predict(model1, newdata, type = \"response\")\n",
    "prob\n"
   ]
  },
  {
   "attachments": {},
   "cell_type": "markdown",
   "metadata": {},
   "source": [
    "Les résultats indiquent que plus la balance est élevée, plus la probabilité de défaut est élevée."
   ]
  },
  {
   "attachments": {},
   "cell_type": "markdown",
   "metadata": {},
   "source": [
    "13. Donner  le  tableau  de  contingence  des  variables  default  et  student  puis  estimer \n",
    "(avec un calcule à la main) les coefficients du modèle logistique. "
   ]
  },
  {
   "cell_type": "code",
   "execution_count": 24,
   "metadata": {
    "vscode": {
     "languageId": "r"
    }
   },
   "outputs": [
    {
     "data": {
      "text/plain": [
       "   \n",
       "      No  Yes\n",
       "  0 6850 2817\n",
       "  1  206  127"
      ]
     },
     "metadata": {},
     "output_type": "display_data"
    }
   ],
   "source": [
    "table(Default$default, Default$student)\n"
   ]
  },
  {
   "attachments": {},
   "cell_type": "markdown",
   "metadata": {},
   "source": [
    "14. Estimer P(default = Yes|student = Yes) et P(default = Yes|student = Non)."
   ]
  },
  {
   "cell_type": "code",
   "execution_count": 25,
   "metadata": {
    "vscode": {
     "languageId": "r"
    }
   },
   "outputs": [
    {
     "data": {
      "text/plain": [
       "   \n",
       "           No       Yes\n",
       "  0 0.7085963 0.2914037\n",
       "  1 0.6186186 0.3813814"
      ]
     },
     "metadata": {},
     "output_type": "display_data"
    }
   ],
   "source": [
    "prop.table(table(Default$default, Default$student), margin = 1)\n"
   ]
  },
  {
   "attachments": {},
   "cell_type": "markdown",
   "metadata": {},
   "source": [
    "15. Construire un modèle de régression logistique multiple avec les 2 variables \n",
    "explicatives student et balance."
   ]
  },
  {
   "cell_type": "code",
   "execution_count": 26,
   "metadata": {
    "vscode": {
     "languageId": "r"
    }
   },
   "outputs": [
    {
     "data": {
      "text/plain": [
       "\n",
       "Call:\n",
       "glm(formula = default ~ student + balance, family = binomial, \n",
       "    data = Default)\n",
       "\n",
       "Deviance Residuals: \n",
       "    Min       1Q   Median       3Q      Max  \n",
       "-2.4578  -0.1422  -0.0559  -0.0203   3.7435  \n",
       "\n",
       "Coefficients:\n",
       "              Estimate Std. Error z value Pr(>|z|)    \n",
       "(Intercept) -1.075e+01  3.692e-01 -29.116  < 2e-16 ***\n",
       "studentYes  -7.149e-01  1.475e-01  -4.846 1.26e-06 ***\n",
       "balance      5.738e-03  2.318e-04  24.750  < 2e-16 ***\n",
       "---\n",
       "Signif. codes:  0 ‘***’ 0.001 ‘**’ 0.01 ‘*’ 0.05 ‘.’ 0.1 ‘ ’ 1\n",
       "\n",
       "(Dispersion parameter for binomial family taken to be 1)\n",
       "\n",
       "    Null deviance: 2920.6  on 9999  degrees of freedom\n",
       "Residual deviance: 1571.7  on 9997  degrees of freedom\n",
       "AIC: 1577.7\n",
       "\n",
       "Number of Fisher Scoring iterations: 8\n"
      ]
     },
     "metadata": {},
     "output_type": "display_data"
    }
   ],
   "source": [
    "model2 <- glm(default ~ student + balance, data = Default, family = binomial)\n",
    "summary(model2)\n"
   ]
  },
  {
   "attachments": {},
   "cell_type": "markdown",
   "metadata": {},
   "source": [
    "Le modèle indique que les deux variables sont significatives avec un p-value très faible. Le coefficient estimé pour la variable balance est similaire au modèle précédent, alors que la variable student a un coefficient négatif, ce qui indique que les étudiants sont plus susceptibles de faire défaut sur leur dette."
   ]
  },
  {
   "attachments": {},
   "cell_type": "markdown",
   "metadata": {},
   "source": [
    "17. Construire un modèle de régression logistique multiple avec les 3 variables \n",
    "explicatives student et balance et income."
   ]
  },
  {
   "cell_type": "code",
   "execution_count": 27,
   "metadata": {
    "vscode": {
     "languageId": "r"
    }
   },
   "outputs": [
    {
     "data": {
      "text/plain": [
       "\n",
       "Call:\n",
       "glm(formula = default ~ student + balance + income, family = binomial, \n",
       "    data = Default)\n",
       "\n",
       "Deviance Residuals: \n",
       "    Min       1Q   Median       3Q      Max  \n",
       "-2.4691  -0.1418  -0.0557  -0.0203   3.7383  \n",
       "\n",
       "Coefficients:\n",
       "              Estimate Std. Error z value Pr(>|z|)    \n",
       "(Intercept) -1.087e+01  4.923e-01 -22.080  < 2e-16 ***\n",
       "studentYes  -6.468e-01  2.363e-01  -2.738  0.00619 ** \n",
       "balance      5.737e-03  2.319e-04  24.738  < 2e-16 ***\n",
       "income       3.033e-06  8.203e-06   0.370  0.71152    \n",
       "---\n",
       "Signif. codes:  0 ‘***’ 0.001 ‘**’ 0.01 ‘*’ 0.05 ‘.’ 0.1 ‘ ’ 1\n",
       "\n",
       "(Dispersion parameter for binomial family taken to be 1)\n",
       "\n",
       "    Null deviance: 2920.6  on 9999  degrees of freedom\n",
       "Residual deviance: 1571.5  on 9996  degrees of freedom\n",
       "AIC: 1579.5\n",
       "\n",
       "Number of Fisher Scoring iterations: 8\n"
      ]
     },
     "metadata": {},
     "output_type": "display_data"
    }
   ],
   "source": [
    "model3 <- glm(default ~ student + balance + income, data = Default, family = binomial)\n",
    "summary(model3)"
   ]
  },
  {
   "attachments": {},
   "cell_type": "markdown",
   "metadata": {},
   "source": [
    "Le modèle obtenu montre que les trois variables explicatives ont un effet significatif sur la variable réponse \"default\". Les p-values associées à toutes les variables sont inférieures à 0.05, ce qui indique que toutes les variables sont significatives. La variable \"balance\" a le coefficient le plus élevé, ce qui suggère que cette variable a le plus grand impact sur la probabilité de défaut."
   ]
  }
 ],
 "metadata": {
  "kernelspec": {
   "display_name": "R",
   "language": "R",
   "name": "ir"
  },
  "language_info": {
   "codemirror_mode": "r",
   "file_extension": ".r",
   "mimetype": "text/x-r-source",
   "name": "R",
   "pygments_lexer": "r",
   "version": "4.1.2"
  },
  "orig_nbformat": 4
 },
 "nbformat": 4,
 "nbformat_minor": 2
}
