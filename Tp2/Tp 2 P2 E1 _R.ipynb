{
 "cells": [
  {
   "attachments": {},
   "cell_type": "markdown",
   "metadata": {},
   "source": [
    "**Partie II — Utilisation de R**"
   ]
  },
  {
   "attachments": {},
   "cell_type": "markdown",
   "metadata": {},
   "source": [
    "Exercice 1  — Modèle Logistique Simple"
   ]
  },
  {
   "attachments": {},
   "cell_type": "markdown",
   "metadata": {},
   "source": [
    "1. Charger et afficher les données regroupées en classe d'âge."
   ]
  },
  {
   "cell_type": "code",
   "execution_count": 126,
   "metadata": {
    "vscode": {
     "languageId": "r"
    }
   },
   "outputs": [
    {
     "data": {
      "text/html": [
       "<dl>\n",
       "\t<dt>$`1`</dt>\n",
       "\t\t<dd><table class=\"dataframe\">\n",
       "<caption>A data.frame: 10 × 4</caption>\n",
       "<thead>\n",
       "\t<tr><th></th><th scope=col>ID</th><th scope=col>AGRP</th><th scope=col>AGE</th><th scope=col>CHD</th></tr>\n",
       "\t<tr><th></th><th scope=col>&lt;int&gt;</th><th scope=col>&lt;int&gt;</th><th scope=col>&lt;int&gt;</th><th scope=col>&lt;int&gt;</th></tr>\n",
       "</thead>\n",
       "<tbody>\n",
       "\t<tr><th scope=row>1</th><td> 1</td><td>1</td><td>20</td><td>0</td></tr>\n",
       "\t<tr><th scope=row>2</th><td> 2</td><td>1</td><td>23</td><td>0</td></tr>\n",
       "\t<tr><th scope=row>3</th><td> 3</td><td>1</td><td>24</td><td>0</td></tr>\n",
       "\t<tr><th scope=row>4</th><td> 4</td><td>1</td><td>25</td><td>0</td></tr>\n",
       "\t<tr><th scope=row>5</th><td> 5</td><td>1</td><td>25</td><td>1</td></tr>\n",
       "\t<tr><th scope=row>6</th><td> 6</td><td>1</td><td>26</td><td>0</td></tr>\n",
       "\t<tr><th scope=row>7</th><td> 7</td><td>1</td><td>26</td><td>0</td></tr>\n",
       "\t<tr><th scope=row>8</th><td> 8</td><td>1</td><td>28</td><td>0</td></tr>\n",
       "\t<tr><th scope=row>9</th><td> 9</td><td>1</td><td>28</td><td>0</td></tr>\n",
       "\t<tr><th scope=row>10</th><td>10</td><td>1</td><td>29</td><td>0</td></tr>\n",
       "</tbody>\n",
       "</table>\n",
       "</dd>\n",
       "\t<dt>$`2`</dt>\n",
       "\t\t<dd><table class=\"dataframe\">\n",
       "<caption>A data.frame: 15 × 4</caption>\n",
       "<thead>\n",
       "\t<tr><th></th><th scope=col>ID</th><th scope=col>AGRP</th><th scope=col>AGE</th><th scope=col>CHD</th></tr>\n",
       "\t<tr><th></th><th scope=col>&lt;int&gt;</th><th scope=col>&lt;int&gt;</th><th scope=col>&lt;int&gt;</th><th scope=col>&lt;int&gt;</th></tr>\n",
       "</thead>\n",
       "<tbody>\n",
       "\t<tr><th scope=row>11</th><td>11</td><td>2</td><td>30</td><td>0</td></tr>\n",
       "\t<tr><th scope=row>12</th><td>12</td><td>2</td><td>30</td><td>0</td></tr>\n",
       "\t<tr><th scope=row>13</th><td>13</td><td>2</td><td>30</td><td>0</td></tr>\n",
       "\t<tr><th scope=row>14</th><td>14</td><td>2</td><td>30</td><td>0</td></tr>\n",
       "\t<tr><th scope=row>15</th><td>15</td><td>2</td><td>30</td><td>0</td></tr>\n",
       "\t<tr><th scope=row>16</th><td>16</td><td>2</td><td>30</td><td>1</td></tr>\n",
       "\t<tr><th scope=row>17</th><td>17</td><td>2</td><td>32</td><td>0</td></tr>\n",
       "\t<tr><th scope=row>18</th><td>18</td><td>2</td><td>32</td><td>0</td></tr>\n",
       "\t<tr><th scope=row>19</th><td>19</td><td>2</td><td>33</td><td>0</td></tr>\n",
       "\t<tr><th scope=row>20</th><td>20</td><td>2</td><td>33</td><td>0</td></tr>\n",
       "\t<tr><th scope=row>21</th><td>21</td><td>2</td><td>34</td><td>0</td></tr>\n",
       "\t<tr><th scope=row>22</th><td>22</td><td>2</td><td>34</td><td>0</td></tr>\n",
       "\t<tr><th scope=row>23</th><td>23</td><td>2</td><td>34</td><td>1</td></tr>\n",
       "\t<tr><th scope=row>24</th><td>24</td><td>2</td><td>34</td><td>0</td></tr>\n",
       "\t<tr><th scope=row>25</th><td>25</td><td>2</td><td>34</td><td>0</td></tr>\n",
       "</tbody>\n",
       "</table>\n",
       "</dd>\n",
       "\t<dt>$`3`</dt>\n",
       "\t\t<dd><table class=\"dataframe\">\n",
       "<caption>A data.frame: 12 × 4</caption>\n",
       "<thead>\n",
       "\t<tr><th></th><th scope=col>ID</th><th scope=col>AGRP</th><th scope=col>AGE</th><th scope=col>CHD</th></tr>\n",
       "\t<tr><th></th><th scope=col>&lt;int&gt;</th><th scope=col>&lt;int&gt;</th><th scope=col>&lt;int&gt;</th><th scope=col>&lt;int&gt;</th></tr>\n",
       "</thead>\n",
       "<tbody>\n",
       "\t<tr><th scope=row>26</th><td>26</td><td>3</td><td>35</td><td>0</td></tr>\n",
       "\t<tr><th scope=row>27</th><td>27</td><td>3</td><td>35</td><td>0</td></tr>\n",
       "\t<tr><th scope=row>28</th><td>28</td><td>3</td><td>36</td><td>0</td></tr>\n",
       "\t<tr><th scope=row>29</th><td>29</td><td>3</td><td>36</td><td>1</td></tr>\n",
       "\t<tr><th scope=row>30</th><td>30</td><td>3</td><td>36</td><td>0</td></tr>\n",
       "\t<tr><th scope=row>31</th><td>31</td><td>3</td><td>37</td><td>0</td></tr>\n",
       "\t<tr><th scope=row>32</th><td>32</td><td>3</td><td>37</td><td>1</td></tr>\n",
       "\t<tr><th scope=row>33</th><td>33</td><td>3</td><td>37</td><td>0</td></tr>\n",
       "\t<tr><th scope=row>34</th><td>34</td><td>3</td><td>38</td><td>0</td></tr>\n",
       "\t<tr><th scope=row>35</th><td>35</td><td>3</td><td>38</td><td>0</td></tr>\n",
       "\t<tr><th scope=row>36</th><td>36</td><td>3</td><td>39</td><td>0</td></tr>\n",
       "\t<tr><th scope=row>37</th><td>37</td><td>3</td><td>39</td><td>1</td></tr>\n",
       "</tbody>\n",
       "</table>\n",
       "</dd>\n",
       "\t<dt>$`4`</dt>\n",
       "\t\t<dd><table class=\"dataframe\">\n",
       "<caption>A data.frame: 15 × 4</caption>\n",
       "<thead>\n",
       "\t<tr><th></th><th scope=col>ID</th><th scope=col>AGRP</th><th scope=col>AGE</th><th scope=col>CHD</th></tr>\n",
       "\t<tr><th></th><th scope=col>&lt;int&gt;</th><th scope=col>&lt;int&gt;</th><th scope=col>&lt;int&gt;</th><th scope=col>&lt;int&gt;</th></tr>\n",
       "</thead>\n",
       "<tbody>\n",
       "\t<tr><th scope=row>38</th><td>38</td><td>4</td><td>40</td><td>0</td></tr>\n",
       "\t<tr><th scope=row>39</th><td>39</td><td>4</td><td>40</td><td>1</td></tr>\n",
       "\t<tr><th scope=row>40</th><td>40</td><td>4</td><td>41</td><td>0</td></tr>\n",
       "\t<tr><th scope=row>41</th><td>41</td><td>4</td><td>41</td><td>0</td></tr>\n",
       "\t<tr><th scope=row>42</th><td>42</td><td>4</td><td>42</td><td>0</td></tr>\n",
       "\t<tr><th scope=row>43</th><td>43</td><td>4</td><td>42</td><td>0</td></tr>\n",
       "\t<tr><th scope=row>44</th><td>44</td><td>4</td><td>42</td><td>0</td></tr>\n",
       "\t<tr><th scope=row>45</th><td>45</td><td>4</td><td>42</td><td>1</td></tr>\n",
       "\t<tr><th scope=row>46</th><td>46</td><td>4</td><td>43</td><td>0</td></tr>\n",
       "\t<tr><th scope=row>47</th><td>47</td><td>4</td><td>43</td><td>0</td></tr>\n",
       "\t<tr><th scope=row>48</th><td>48</td><td>4</td><td>43</td><td>1</td></tr>\n",
       "\t<tr><th scope=row>49</th><td>49</td><td>4</td><td>44</td><td>0</td></tr>\n",
       "\t<tr><th scope=row>50</th><td>50</td><td>4</td><td>44</td><td>0</td></tr>\n",
       "\t<tr><th scope=row>51</th><td>51</td><td>4</td><td>44</td><td>1</td></tr>\n",
       "\t<tr><th scope=row>52</th><td>52</td><td>4</td><td>44</td><td>1</td></tr>\n",
       "</tbody>\n",
       "</table>\n",
       "</dd>\n",
       "\t<dt>$`5`</dt>\n",
       "\t\t<dd><table class=\"dataframe\">\n",
       "<caption>A data.frame: 13 × 4</caption>\n",
       "<thead>\n",
       "\t<tr><th></th><th scope=col>ID</th><th scope=col>AGRP</th><th scope=col>AGE</th><th scope=col>CHD</th></tr>\n",
       "\t<tr><th></th><th scope=col>&lt;int&gt;</th><th scope=col>&lt;int&gt;</th><th scope=col>&lt;int&gt;</th><th scope=col>&lt;int&gt;</th></tr>\n",
       "</thead>\n",
       "<tbody>\n",
       "\t<tr><th scope=row>53</th><td>53</td><td>5</td><td>45</td><td>0</td></tr>\n",
       "\t<tr><th scope=row>54</th><td>54</td><td>5</td><td>45</td><td>1</td></tr>\n",
       "\t<tr><th scope=row>55</th><td>55</td><td>5</td><td>46</td><td>0</td></tr>\n",
       "\t<tr><th scope=row>56</th><td>56</td><td>5</td><td>46</td><td>1</td></tr>\n",
       "\t<tr><th scope=row>57</th><td>57</td><td>5</td><td>47</td><td>0</td></tr>\n",
       "\t<tr><th scope=row>58</th><td>58</td><td>5</td><td>47</td><td>0</td></tr>\n",
       "\t<tr><th scope=row>59</th><td>59</td><td>5</td><td>47</td><td>1</td></tr>\n",
       "\t<tr><th scope=row>60</th><td>60</td><td>5</td><td>48</td><td>0</td></tr>\n",
       "\t<tr><th scope=row>61</th><td>61</td><td>5</td><td>48</td><td>1</td></tr>\n",
       "\t<tr><th scope=row>62</th><td>62</td><td>5</td><td>48</td><td>1</td></tr>\n",
       "\t<tr><th scope=row>63</th><td>63</td><td>5</td><td>49</td><td>0</td></tr>\n",
       "\t<tr><th scope=row>64</th><td>64</td><td>5</td><td>49</td><td>0</td></tr>\n",
       "\t<tr><th scope=row>65</th><td>65</td><td>5</td><td>49</td><td>1</td></tr>\n",
       "</tbody>\n",
       "</table>\n",
       "</dd>\n",
       "\t<dt>$`6`</dt>\n",
       "\t\t<dd><table class=\"dataframe\">\n",
       "<caption>A data.frame: 8 × 4</caption>\n",
       "<thead>\n",
       "\t<tr><th></th><th scope=col>ID</th><th scope=col>AGRP</th><th scope=col>AGE</th><th scope=col>CHD</th></tr>\n",
       "\t<tr><th></th><th scope=col>&lt;int&gt;</th><th scope=col>&lt;int&gt;</th><th scope=col>&lt;int&gt;</th><th scope=col>&lt;int&gt;</th></tr>\n",
       "</thead>\n",
       "<tbody>\n",
       "\t<tr><th scope=row>66</th><td>66</td><td>6</td><td>50</td><td>0</td></tr>\n",
       "\t<tr><th scope=row>67</th><td>67</td><td>6</td><td>50</td><td>1</td></tr>\n",
       "\t<tr><th scope=row>68</th><td>68</td><td>6</td><td>51</td><td>0</td></tr>\n",
       "\t<tr><th scope=row>69</th><td>69</td><td>6</td><td>52</td><td>0</td></tr>\n",
       "\t<tr><th scope=row>70</th><td>70</td><td>6</td><td>52</td><td>1</td></tr>\n",
       "\t<tr><th scope=row>71</th><td>71</td><td>6</td><td>53</td><td>1</td></tr>\n",
       "\t<tr><th scope=row>72</th><td>72</td><td>6</td><td>53</td><td>1</td></tr>\n",
       "\t<tr><th scope=row>73</th><td>73</td><td>6</td><td>54</td><td>1</td></tr>\n",
       "</tbody>\n",
       "</table>\n",
       "</dd>\n",
       "\t<dt>$`7`</dt>\n",
       "\t\t<dd><table class=\"dataframe\">\n",
       "<caption>A data.frame: 17 × 4</caption>\n",
       "<thead>\n",
       "\t<tr><th></th><th scope=col>ID</th><th scope=col>AGRP</th><th scope=col>AGE</th><th scope=col>CHD</th></tr>\n",
       "\t<tr><th></th><th scope=col>&lt;int&gt;</th><th scope=col>&lt;int&gt;</th><th scope=col>&lt;int&gt;</th><th scope=col>&lt;int&gt;</th></tr>\n",
       "</thead>\n",
       "<tbody>\n",
       "\t<tr><th scope=row>74</th><td>74</td><td>7</td><td>55</td><td>0</td></tr>\n",
       "\t<tr><th scope=row>75</th><td>75</td><td>7</td><td>55</td><td>1</td></tr>\n",
       "\t<tr><th scope=row>76</th><td>76</td><td>7</td><td>55</td><td>1</td></tr>\n",
       "\t<tr><th scope=row>77</th><td>77</td><td>7</td><td>56</td><td>1</td></tr>\n",
       "\t<tr><th scope=row>78</th><td>78</td><td>7</td><td>56</td><td>1</td></tr>\n",
       "\t<tr><th scope=row>79</th><td>79</td><td>7</td><td>56</td><td>1</td></tr>\n",
       "\t<tr><th scope=row>80</th><td>80</td><td>7</td><td>57</td><td>0</td></tr>\n",
       "\t<tr><th scope=row>81</th><td>81</td><td>7</td><td>57</td><td>0</td></tr>\n",
       "\t<tr><th scope=row>82</th><td>82</td><td>7</td><td>57</td><td>1</td></tr>\n",
       "\t<tr><th scope=row>83</th><td>83</td><td>7</td><td>57</td><td>1</td></tr>\n",
       "\t<tr><th scope=row>84</th><td>84</td><td>7</td><td>57</td><td>1</td></tr>\n",
       "\t<tr><th scope=row>85</th><td>85</td><td>7</td><td>57</td><td>1</td></tr>\n",
       "\t<tr><th scope=row>86</th><td>86</td><td>7</td><td>58</td><td>0</td></tr>\n",
       "\t<tr><th scope=row>87</th><td>87</td><td>7</td><td>58</td><td>1</td></tr>\n",
       "\t<tr><th scope=row>88</th><td>88</td><td>7</td><td>58</td><td>1</td></tr>\n",
       "\t<tr><th scope=row>89</th><td>89</td><td>7</td><td>59</td><td>1</td></tr>\n",
       "\t<tr><th scope=row>90</th><td>90</td><td>7</td><td>59</td><td>1</td></tr>\n",
       "</tbody>\n",
       "</table>\n",
       "</dd>\n",
       "\t<dt>$`8`</dt>\n",
       "\t\t<dd><table class=\"dataframe\">\n",
       "<caption>A data.frame: 10 × 4</caption>\n",
       "<thead>\n",
       "\t<tr><th></th><th scope=col>ID</th><th scope=col>AGRP</th><th scope=col>AGE</th><th scope=col>CHD</th></tr>\n",
       "\t<tr><th></th><th scope=col>&lt;int&gt;</th><th scope=col>&lt;int&gt;</th><th scope=col>&lt;int&gt;</th><th scope=col>&lt;int&gt;</th></tr>\n",
       "</thead>\n",
       "<tbody>\n",
       "\t<tr><th scope=row>91</th><td> 91</td><td>8</td><td>60</td><td>0</td></tr>\n",
       "\t<tr><th scope=row>92</th><td> 92</td><td>8</td><td>60</td><td>1</td></tr>\n",
       "\t<tr><th scope=row>93</th><td> 93</td><td>8</td><td>61</td><td>1</td></tr>\n",
       "\t<tr><th scope=row>94</th><td> 94</td><td>8</td><td>62</td><td>1</td></tr>\n",
       "\t<tr><th scope=row>95</th><td> 95</td><td>8</td><td>62</td><td>1</td></tr>\n",
       "\t<tr><th scope=row>96</th><td> 96</td><td>8</td><td>63</td><td>1</td></tr>\n",
       "\t<tr><th scope=row>97</th><td> 97</td><td>8</td><td>64</td><td>0</td></tr>\n",
       "\t<tr><th scope=row>98</th><td> 98</td><td>8</td><td>64</td><td>1</td></tr>\n",
       "\t<tr><th scope=row>99</th><td> 99</td><td>8</td><td>65</td><td>1</td></tr>\n",
       "\t<tr><th scope=row>100</th><td>100</td><td>8</td><td>69</td><td>1</td></tr>\n",
       "</tbody>\n",
       "</table>\n",
       "</dd>\n",
       "</dl>\n"
      ],
      "text/latex": [
       "\\begin{description}\n",
       "\\item[\\$`1`] A data.frame: 10 × 4\n",
       "\\begin{tabular}{r|llll}\n",
       "  & ID & AGRP & AGE & CHD\\\\\n",
       "  & <int> & <int> & <int> & <int>\\\\\n",
       "\\hline\n",
       "\t1 &  1 & 1 & 20 & 0\\\\\n",
       "\t2 &  2 & 1 & 23 & 0\\\\\n",
       "\t3 &  3 & 1 & 24 & 0\\\\\n",
       "\t4 &  4 & 1 & 25 & 0\\\\\n",
       "\t5 &  5 & 1 & 25 & 1\\\\\n",
       "\t6 &  6 & 1 & 26 & 0\\\\\n",
       "\t7 &  7 & 1 & 26 & 0\\\\\n",
       "\t8 &  8 & 1 & 28 & 0\\\\\n",
       "\t9 &  9 & 1 & 28 & 0\\\\\n",
       "\t10 & 10 & 1 & 29 & 0\\\\\n",
       "\\end{tabular}\n",
       "\n",
       "\\item[\\$`2`] A data.frame: 15 × 4\n",
       "\\begin{tabular}{r|llll}\n",
       "  & ID & AGRP & AGE & CHD\\\\\n",
       "  & <int> & <int> & <int> & <int>\\\\\n",
       "\\hline\n",
       "\t11 & 11 & 2 & 30 & 0\\\\\n",
       "\t12 & 12 & 2 & 30 & 0\\\\\n",
       "\t13 & 13 & 2 & 30 & 0\\\\\n",
       "\t14 & 14 & 2 & 30 & 0\\\\\n",
       "\t15 & 15 & 2 & 30 & 0\\\\\n",
       "\t16 & 16 & 2 & 30 & 1\\\\\n",
       "\t17 & 17 & 2 & 32 & 0\\\\\n",
       "\t18 & 18 & 2 & 32 & 0\\\\\n",
       "\t19 & 19 & 2 & 33 & 0\\\\\n",
       "\t20 & 20 & 2 & 33 & 0\\\\\n",
       "\t21 & 21 & 2 & 34 & 0\\\\\n",
       "\t22 & 22 & 2 & 34 & 0\\\\\n",
       "\t23 & 23 & 2 & 34 & 1\\\\\n",
       "\t24 & 24 & 2 & 34 & 0\\\\\n",
       "\t25 & 25 & 2 & 34 & 0\\\\\n",
       "\\end{tabular}\n",
       "\n",
       "\\item[\\$`3`] A data.frame: 12 × 4\n",
       "\\begin{tabular}{r|llll}\n",
       "  & ID & AGRP & AGE & CHD\\\\\n",
       "  & <int> & <int> & <int> & <int>\\\\\n",
       "\\hline\n",
       "\t26 & 26 & 3 & 35 & 0\\\\\n",
       "\t27 & 27 & 3 & 35 & 0\\\\\n",
       "\t28 & 28 & 3 & 36 & 0\\\\\n",
       "\t29 & 29 & 3 & 36 & 1\\\\\n",
       "\t30 & 30 & 3 & 36 & 0\\\\\n",
       "\t31 & 31 & 3 & 37 & 0\\\\\n",
       "\t32 & 32 & 3 & 37 & 1\\\\\n",
       "\t33 & 33 & 3 & 37 & 0\\\\\n",
       "\t34 & 34 & 3 & 38 & 0\\\\\n",
       "\t35 & 35 & 3 & 38 & 0\\\\\n",
       "\t36 & 36 & 3 & 39 & 0\\\\\n",
       "\t37 & 37 & 3 & 39 & 1\\\\\n",
       "\\end{tabular}\n",
       "\n",
       "\\item[\\$`4`] A data.frame: 15 × 4\n",
       "\\begin{tabular}{r|llll}\n",
       "  & ID & AGRP & AGE & CHD\\\\\n",
       "  & <int> & <int> & <int> & <int>\\\\\n",
       "\\hline\n",
       "\t38 & 38 & 4 & 40 & 0\\\\\n",
       "\t39 & 39 & 4 & 40 & 1\\\\\n",
       "\t40 & 40 & 4 & 41 & 0\\\\\n",
       "\t41 & 41 & 4 & 41 & 0\\\\\n",
       "\t42 & 42 & 4 & 42 & 0\\\\\n",
       "\t43 & 43 & 4 & 42 & 0\\\\\n",
       "\t44 & 44 & 4 & 42 & 0\\\\\n",
       "\t45 & 45 & 4 & 42 & 1\\\\\n",
       "\t46 & 46 & 4 & 43 & 0\\\\\n",
       "\t47 & 47 & 4 & 43 & 0\\\\\n",
       "\t48 & 48 & 4 & 43 & 1\\\\\n",
       "\t49 & 49 & 4 & 44 & 0\\\\\n",
       "\t50 & 50 & 4 & 44 & 0\\\\\n",
       "\t51 & 51 & 4 & 44 & 1\\\\\n",
       "\t52 & 52 & 4 & 44 & 1\\\\\n",
       "\\end{tabular}\n",
       "\n",
       "\\item[\\$`5`] A data.frame: 13 × 4\n",
       "\\begin{tabular}{r|llll}\n",
       "  & ID & AGRP & AGE & CHD\\\\\n",
       "  & <int> & <int> & <int> & <int>\\\\\n",
       "\\hline\n",
       "\t53 & 53 & 5 & 45 & 0\\\\\n",
       "\t54 & 54 & 5 & 45 & 1\\\\\n",
       "\t55 & 55 & 5 & 46 & 0\\\\\n",
       "\t56 & 56 & 5 & 46 & 1\\\\\n",
       "\t57 & 57 & 5 & 47 & 0\\\\\n",
       "\t58 & 58 & 5 & 47 & 0\\\\\n",
       "\t59 & 59 & 5 & 47 & 1\\\\\n",
       "\t60 & 60 & 5 & 48 & 0\\\\\n",
       "\t61 & 61 & 5 & 48 & 1\\\\\n",
       "\t62 & 62 & 5 & 48 & 1\\\\\n",
       "\t63 & 63 & 5 & 49 & 0\\\\\n",
       "\t64 & 64 & 5 & 49 & 0\\\\\n",
       "\t65 & 65 & 5 & 49 & 1\\\\\n",
       "\\end{tabular}\n",
       "\n",
       "\\item[\\$`6`] A data.frame: 8 × 4\n",
       "\\begin{tabular}{r|llll}\n",
       "  & ID & AGRP & AGE & CHD\\\\\n",
       "  & <int> & <int> & <int> & <int>\\\\\n",
       "\\hline\n",
       "\t66 & 66 & 6 & 50 & 0\\\\\n",
       "\t67 & 67 & 6 & 50 & 1\\\\\n",
       "\t68 & 68 & 6 & 51 & 0\\\\\n",
       "\t69 & 69 & 6 & 52 & 0\\\\\n",
       "\t70 & 70 & 6 & 52 & 1\\\\\n",
       "\t71 & 71 & 6 & 53 & 1\\\\\n",
       "\t72 & 72 & 6 & 53 & 1\\\\\n",
       "\t73 & 73 & 6 & 54 & 1\\\\\n",
       "\\end{tabular}\n",
       "\n",
       "\\item[\\$`7`] A data.frame: 17 × 4\n",
       "\\begin{tabular}{r|llll}\n",
       "  & ID & AGRP & AGE & CHD\\\\\n",
       "  & <int> & <int> & <int> & <int>\\\\\n",
       "\\hline\n",
       "\t74 & 74 & 7 & 55 & 0\\\\\n",
       "\t75 & 75 & 7 & 55 & 1\\\\\n",
       "\t76 & 76 & 7 & 55 & 1\\\\\n",
       "\t77 & 77 & 7 & 56 & 1\\\\\n",
       "\t78 & 78 & 7 & 56 & 1\\\\\n",
       "\t79 & 79 & 7 & 56 & 1\\\\\n",
       "\t80 & 80 & 7 & 57 & 0\\\\\n",
       "\t81 & 81 & 7 & 57 & 0\\\\\n",
       "\t82 & 82 & 7 & 57 & 1\\\\\n",
       "\t83 & 83 & 7 & 57 & 1\\\\\n",
       "\t84 & 84 & 7 & 57 & 1\\\\\n",
       "\t85 & 85 & 7 & 57 & 1\\\\\n",
       "\t86 & 86 & 7 & 58 & 0\\\\\n",
       "\t87 & 87 & 7 & 58 & 1\\\\\n",
       "\t88 & 88 & 7 & 58 & 1\\\\\n",
       "\t89 & 89 & 7 & 59 & 1\\\\\n",
       "\t90 & 90 & 7 & 59 & 1\\\\\n",
       "\\end{tabular}\n",
       "\n",
       "\\item[\\$`8`] A data.frame: 10 × 4\n",
       "\\begin{tabular}{r|llll}\n",
       "  & ID & AGRP & AGE & CHD\\\\\n",
       "  & <int> & <int> & <int> & <int>\\\\\n",
       "\\hline\n",
       "\t91 &  91 & 8 & 60 & 0\\\\\n",
       "\t92 &  92 & 8 & 60 & 1\\\\\n",
       "\t93 &  93 & 8 & 61 & 1\\\\\n",
       "\t94 &  94 & 8 & 62 & 1\\\\\n",
       "\t95 &  95 & 8 & 62 & 1\\\\\n",
       "\t96 &  96 & 8 & 63 & 1\\\\\n",
       "\t97 &  97 & 8 & 64 & 0\\\\\n",
       "\t98 &  98 & 8 & 64 & 1\\\\\n",
       "\t99 &  99 & 8 & 65 & 1\\\\\n",
       "\t100 & 100 & 8 & 69 & 1\\\\\n",
       "\\end{tabular}\n",
       "\n",
       "\\end{description}\n"
      ],
      "text/markdown": [
       "$`1`\n",
       ":   \n",
       "A data.frame: 10 × 4\n",
       "\n",
       "| <!--/--> | ID &lt;int&gt; | AGRP &lt;int&gt; | AGE &lt;int&gt; | CHD &lt;int&gt; |\n",
       "|---|---|---|---|---|\n",
       "| 1 |  1 | 1 | 20 | 0 |\n",
       "| 2 |  2 | 1 | 23 | 0 |\n",
       "| 3 |  3 | 1 | 24 | 0 |\n",
       "| 4 |  4 | 1 | 25 | 0 |\n",
       "| 5 |  5 | 1 | 25 | 1 |\n",
       "| 6 |  6 | 1 | 26 | 0 |\n",
       "| 7 |  7 | 1 | 26 | 0 |\n",
       "| 8 |  8 | 1 | 28 | 0 |\n",
       "| 9 |  9 | 1 | 28 | 0 |\n",
       "| 10 | 10 | 1 | 29 | 0 |\n",
       "\n",
       "\n",
       "$`2`\n",
       ":   \n",
       "A data.frame: 15 × 4\n",
       "\n",
       "| <!--/--> | ID &lt;int&gt; | AGRP &lt;int&gt; | AGE &lt;int&gt; | CHD &lt;int&gt; |\n",
       "|---|---|---|---|---|\n",
       "| 11 | 11 | 2 | 30 | 0 |\n",
       "| 12 | 12 | 2 | 30 | 0 |\n",
       "| 13 | 13 | 2 | 30 | 0 |\n",
       "| 14 | 14 | 2 | 30 | 0 |\n",
       "| 15 | 15 | 2 | 30 | 0 |\n",
       "| 16 | 16 | 2 | 30 | 1 |\n",
       "| 17 | 17 | 2 | 32 | 0 |\n",
       "| 18 | 18 | 2 | 32 | 0 |\n",
       "| 19 | 19 | 2 | 33 | 0 |\n",
       "| 20 | 20 | 2 | 33 | 0 |\n",
       "| 21 | 21 | 2 | 34 | 0 |\n",
       "| 22 | 22 | 2 | 34 | 0 |\n",
       "| 23 | 23 | 2 | 34 | 1 |\n",
       "| 24 | 24 | 2 | 34 | 0 |\n",
       "| 25 | 25 | 2 | 34 | 0 |\n",
       "\n",
       "\n",
       "$`3`\n",
       ":   \n",
       "A data.frame: 12 × 4\n",
       "\n",
       "| <!--/--> | ID &lt;int&gt; | AGRP &lt;int&gt; | AGE &lt;int&gt; | CHD &lt;int&gt; |\n",
       "|---|---|---|---|---|\n",
       "| 26 | 26 | 3 | 35 | 0 |\n",
       "| 27 | 27 | 3 | 35 | 0 |\n",
       "| 28 | 28 | 3 | 36 | 0 |\n",
       "| 29 | 29 | 3 | 36 | 1 |\n",
       "| 30 | 30 | 3 | 36 | 0 |\n",
       "| 31 | 31 | 3 | 37 | 0 |\n",
       "| 32 | 32 | 3 | 37 | 1 |\n",
       "| 33 | 33 | 3 | 37 | 0 |\n",
       "| 34 | 34 | 3 | 38 | 0 |\n",
       "| 35 | 35 | 3 | 38 | 0 |\n",
       "| 36 | 36 | 3 | 39 | 0 |\n",
       "| 37 | 37 | 3 | 39 | 1 |\n",
       "\n",
       "\n",
       "$`4`\n",
       ":   \n",
       "A data.frame: 15 × 4\n",
       "\n",
       "| <!--/--> | ID &lt;int&gt; | AGRP &lt;int&gt; | AGE &lt;int&gt; | CHD &lt;int&gt; |\n",
       "|---|---|---|---|---|\n",
       "| 38 | 38 | 4 | 40 | 0 |\n",
       "| 39 | 39 | 4 | 40 | 1 |\n",
       "| 40 | 40 | 4 | 41 | 0 |\n",
       "| 41 | 41 | 4 | 41 | 0 |\n",
       "| 42 | 42 | 4 | 42 | 0 |\n",
       "| 43 | 43 | 4 | 42 | 0 |\n",
       "| 44 | 44 | 4 | 42 | 0 |\n",
       "| 45 | 45 | 4 | 42 | 1 |\n",
       "| 46 | 46 | 4 | 43 | 0 |\n",
       "| 47 | 47 | 4 | 43 | 0 |\n",
       "| 48 | 48 | 4 | 43 | 1 |\n",
       "| 49 | 49 | 4 | 44 | 0 |\n",
       "| 50 | 50 | 4 | 44 | 0 |\n",
       "| 51 | 51 | 4 | 44 | 1 |\n",
       "| 52 | 52 | 4 | 44 | 1 |\n",
       "\n",
       "\n",
       "$`5`\n",
       ":   \n",
       "A data.frame: 13 × 4\n",
       "\n",
       "| <!--/--> | ID &lt;int&gt; | AGRP &lt;int&gt; | AGE &lt;int&gt; | CHD &lt;int&gt; |\n",
       "|---|---|---|---|---|\n",
       "| 53 | 53 | 5 | 45 | 0 |\n",
       "| 54 | 54 | 5 | 45 | 1 |\n",
       "| 55 | 55 | 5 | 46 | 0 |\n",
       "| 56 | 56 | 5 | 46 | 1 |\n",
       "| 57 | 57 | 5 | 47 | 0 |\n",
       "| 58 | 58 | 5 | 47 | 0 |\n",
       "| 59 | 59 | 5 | 47 | 1 |\n",
       "| 60 | 60 | 5 | 48 | 0 |\n",
       "| 61 | 61 | 5 | 48 | 1 |\n",
       "| 62 | 62 | 5 | 48 | 1 |\n",
       "| 63 | 63 | 5 | 49 | 0 |\n",
       "| 64 | 64 | 5 | 49 | 0 |\n",
       "| 65 | 65 | 5 | 49 | 1 |\n",
       "\n",
       "\n",
       "$`6`\n",
       ":   \n",
       "A data.frame: 8 × 4\n",
       "\n",
       "| <!--/--> | ID &lt;int&gt; | AGRP &lt;int&gt; | AGE &lt;int&gt; | CHD &lt;int&gt; |\n",
       "|---|---|---|---|---|\n",
       "| 66 | 66 | 6 | 50 | 0 |\n",
       "| 67 | 67 | 6 | 50 | 1 |\n",
       "| 68 | 68 | 6 | 51 | 0 |\n",
       "| 69 | 69 | 6 | 52 | 0 |\n",
       "| 70 | 70 | 6 | 52 | 1 |\n",
       "| 71 | 71 | 6 | 53 | 1 |\n",
       "| 72 | 72 | 6 | 53 | 1 |\n",
       "| 73 | 73 | 6 | 54 | 1 |\n",
       "\n",
       "\n",
       "$`7`\n",
       ":   \n",
       "A data.frame: 17 × 4\n",
       "\n",
       "| <!--/--> | ID &lt;int&gt; | AGRP &lt;int&gt; | AGE &lt;int&gt; | CHD &lt;int&gt; |\n",
       "|---|---|---|---|---|\n",
       "| 74 | 74 | 7 | 55 | 0 |\n",
       "| 75 | 75 | 7 | 55 | 1 |\n",
       "| 76 | 76 | 7 | 55 | 1 |\n",
       "| 77 | 77 | 7 | 56 | 1 |\n",
       "| 78 | 78 | 7 | 56 | 1 |\n",
       "| 79 | 79 | 7 | 56 | 1 |\n",
       "| 80 | 80 | 7 | 57 | 0 |\n",
       "| 81 | 81 | 7 | 57 | 0 |\n",
       "| 82 | 82 | 7 | 57 | 1 |\n",
       "| 83 | 83 | 7 | 57 | 1 |\n",
       "| 84 | 84 | 7 | 57 | 1 |\n",
       "| 85 | 85 | 7 | 57 | 1 |\n",
       "| 86 | 86 | 7 | 58 | 0 |\n",
       "| 87 | 87 | 7 | 58 | 1 |\n",
       "| 88 | 88 | 7 | 58 | 1 |\n",
       "| 89 | 89 | 7 | 59 | 1 |\n",
       "| 90 | 90 | 7 | 59 | 1 |\n",
       "\n",
       "\n",
       "$`8`\n",
       ":   \n",
       "A data.frame: 10 × 4\n",
       "\n",
       "| <!--/--> | ID &lt;int&gt; | AGRP &lt;int&gt; | AGE &lt;int&gt; | CHD &lt;int&gt; |\n",
       "|---|---|---|---|---|\n",
       "| 91 |  91 | 8 | 60 | 0 |\n",
       "| 92 |  92 | 8 | 60 | 1 |\n",
       "| 93 |  93 | 8 | 61 | 1 |\n",
       "| 94 |  94 | 8 | 62 | 1 |\n",
       "| 95 |  95 | 8 | 62 | 1 |\n",
       "| 96 |  96 | 8 | 63 | 1 |\n",
       "| 97 |  97 | 8 | 64 | 0 |\n",
       "| 98 |  98 | 8 | 64 | 1 |\n",
       "| 99 |  99 | 8 | 65 | 1 |\n",
       "| 100 | 100 | 8 | 69 | 1 |\n",
       "\n",
       "\n",
       "\n",
       "\n"
      ],
      "text/plain": [
       "$`1`\n",
       "   ID AGRP AGE CHD\n",
       "1   1    1  20   0\n",
       "2   2    1  23   0\n",
       "3   3    1  24   0\n",
       "4   4    1  25   0\n",
       "5   5    1  25   1\n",
       "6   6    1  26   0\n",
       "7   7    1  26   0\n",
       "8   8    1  28   0\n",
       "9   9    1  28   0\n",
       "10 10    1  29   0\n",
       "\n",
       "$`2`\n",
       "   ID AGRP AGE CHD\n",
       "11 11    2  30   0\n",
       "12 12    2  30   0\n",
       "13 13    2  30   0\n",
       "14 14    2  30   0\n",
       "15 15    2  30   0\n",
       "16 16    2  30   1\n",
       "17 17    2  32   0\n",
       "18 18    2  32   0\n",
       "19 19    2  33   0\n",
       "20 20    2  33   0\n",
       "21 21    2  34   0\n",
       "22 22    2  34   0\n",
       "23 23    2  34   1\n",
       "24 24    2  34   0\n",
       "25 25    2  34   0\n",
       "\n",
       "$`3`\n",
       "   ID AGRP AGE CHD\n",
       "26 26    3  35   0\n",
       "27 27    3  35   0\n",
       "28 28    3  36   0\n",
       "29 29    3  36   1\n",
       "30 30    3  36   0\n",
       "31 31    3  37   0\n",
       "32 32    3  37   1\n",
       "33 33    3  37   0\n",
       "34 34    3  38   0\n",
       "35 35    3  38   0\n",
       "36 36    3  39   0\n",
       "37 37    3  39   1\n",
       "\n",
       "$`4`\n",
       "   ID AGRP AGE CHD\n",
       "38 38    4  40   0\n",
       "39 39    4  40   1\n",
       "40 40    4  41   0\n",
       "41 41    4  41   0\n",
       "42 42    4  42   0\n",
       "43 43    4  42   0\n",
       "44 44    4  42   0\n",
       "45 45    4  42   1\n",
       "46 46    4  43   0\n",
       "47 47    4  43   0\n",
       "48 48    4  43   1\n",
       "49 49    4  44   0\n",
       "50 50    4  44   0\n",
       "51 51    4  44   1\n",
       "52 52    4  44   1\n",
       "\n",
       "$`5`\n",
       "   ID AGRP AGE CHD\n",
       "53 53    5  45   0\n",
       "54 54    5  45   1\n",
       "55 55    5  46   0\n",
       "56 56    5  46   1\n",
       "57 57    5  47   0\n",
       "58 58    5  47   0\n",
       "59 59    5  47   1\n",
       "60 60    5  48   0\n",
       "61 61    5  48   1\n",
       "62 62    5  48   1\n",
       "63 63    5  49   0\n",
       "64 64    5  49   0\n",
       "65 65    5  49   1\n",
       "\n",
       "$`6`\n",
       "   ID AGRP AGE CHD\n",
       "66 66    6  50   0\n",
       "67 67    6  50   1\n",
       "68 68    6  51   0\n",
       "69 69    6  52   0\n",
       "70 70    6  52   1\n",
       "71 71    6  53   1\n",
       "72 72    6  53   1\n",
       "73 73    6  54   1\n",
       "\n",
       "$`7`\n",
       "   ID AGRP AGE CHD\n",
       "74 74    7  55   0\n",
       "75 75    7  55   1\n",
       "76 76    7  55   1\n",
       "77 77    7  56   1\n",
       "78 78    7  56   1\n",
       "79 79    7  56   1\n",
       "80 80    7  57   0\n",
       "81 81    7  57   0\n",
       "82 82    7  57   1\n",
       "83 83    7  57   1\n",
       "84 84    7  57   1\n",
       "85 85    7  57   1\n",
       "86 86    7  58   0\n",
       "87 87    7  58   1\n",
       "88 88    7  58   1\n",
       "89 89    7  59   1\n",
       "90 90    7  59   1\n",
       "\n",
       "$`8`\n",
       "     ID AGRP AGE CHD\n",
       "91   91    8  60   0\n",
       "92   92    8  60   1\n",
       "93   93    8  61   1\n",
       "94   94    8  62   1\n",
       "95   95    8  62   1\n",
       "96   96    8  63   1\n",
       "97   97    8  64   0\n",
       "98   98    8  64   1\n",
       "99   99    8  65   1\n",
       "100 100    8  69   1\n"
      ]
     },
     "metadata": {},
     "output_type": "display_data"
    }
   ],
   "source": [
    "data <- read.table(\"MCV.txt\", header=TRUE)\n",
    "data_by_age <- split(data, data$AGRP)\n",
    "data_by_age\n"
   ]
  },
  {
   "attachments": {},
   "cell_type": "markdown",
   "metadata": {},
   "source": [
    "2. On souhaite étudier la relation entre CHD et la variable explicative AGE. Afficher les \n",
    "données à l’aide d’un nuage de points. Commenter la Figure. "
   ]
  },
  {
   "cell_type": "code",
   "execution_count": 127,
   "metadata": {
    "vscode": {
     "languageId": "r"
    }
   },
   "outputs": [
    {
     "data": {
      "image/png": "[encoded data removed]",
      "text/plain": [
       "plot without title"
      ]
     },
     "metadata": {
      "image/png": {
       "height": 420,
       "width": 420
      }
     },
     "output_type": "display_data"
    }
   ],
   "source": [
    "plot(data$AGE, data$CHD, xlab=\"Age\", ylab=\"Presence of CHD\")\n"
   ]
  },
  {
   "attachments": {},
   "cell_type": "markdown",
   "metadata": {},
   "source": [
    "La tendance générale montre une relation positive entre l'âge et la présence de maladie cardiovasculaire, ce qui suggère une corrélation positive entre les deux variables. "
   ]
  },
  {
   "attachments": {},
   "cell_type": "markdown",
   "metadata": {},
   "source": [
    "3. Calculons la proportion de malades observée selon les classes d’âge définies par la \n",
    "variable  AGRP.  Définir  un  vecteur  centre  qui  donne  les  centres  de  chaque  classe \n",
    "puis  représenter  le  nuage  de  points  de  p  versus  centre.  Y  a-t-il  une  liaison  entre \n",
    "CHD  et  AGE  ?  Quelle  est  la  forme  de  ce  graphique  ?  Quel  est  son  intérêt \n",
    "comparativement au graphique précédant ? Quel modèle suggérez-vous d’utiliser ?"
   ]
  },
  {
   "cell_type": "code",
   "execution_count": 128,
   "metadata": {
    "vscode": {
     "languageId": "r"
    }
   },
   "outputs": [
    {
     "data": {
      "image/png": "[encoded data removed]",
      "text/plain": [
       "plot without title"
      ]
     },
     "metadata": {
      "image/png": {
       "height": 420,
       "width": 420
      }
     },
     "output_type": "display_data"
    }
   ],
   "source": [
    "proportions <- tapply(data$CHD, data$AGRP, mean)\n",
    "\n",
    "\n",
    "center <- tapply(data$AGE, data$AGRP, mean)\n",
    "plot(center, proportions, xlab=\"Age\", ylab=\"Proportion with CHD\")\n"
   ]
  },
  {
   "attachments": {},
   "cell_type": "markdown",
   "metadata": {},
   "source": [
    "Le graphique montre la proportion de malades pour chaque classe d’âge. Il montre également la relation entre CHD et AGE pour chaque classe d’âge. Le graphique est utile pour voir comment la proportion de malades varie en fonction de l’âge. Il suggère également qu’il y a une relation non linéaire entre les deux variables. Pour modéliser cette relation, vous pouvez utiliser une régression logistique."
   ]
  },
  {
   "attachments": {},
   "cell_type": "markdown",
   "metadata": {},
   "source": [
    "4. Commençons  pour  ajuster  une  régression  logistique  de  CHD  en  fonction  de  AGE. \n",
    "Commenter les résultats (tests de significativité, nombre de degrés de liberté)."
   ]
  },
  {
   "cell_type": "code",
   "execution_count": 129,
   "metadata": {
    "vscode": {
     "languageId": "r"
    }
   },
   "outputs": [
    {
     "data": {
      "text/plain": [
       "\n",
       "Call:\n",
       "glm(formula = CHD ~ AGE, family = binomial, data = data)\n",
       "\n",
       "Deviance Residuals: \n",
       "    Min       1Q   Median       3Q      Max  \n",
       "-1.9718  -0.8456  -0.4576   0.8253   2.2859  \n",
       "\n",
       "Coefficients:\n",
       "            Estimate Std. Error z value Pr(>|z|)    \n",
       "(Intercept) -5.30945    1.13365  -4.683 2.82e-06 ***\n",
       "AGE          0.11092    0.02406   4.610 4.02e-06 ***\n",
       "---\n",
       "Signif. codes:  0 ‘***’ 0.001 ‘**’ 0.01 ‘*’ 0.05 ‘.’ 0.1 ‘ ’ 1\n",
       "\n",
       "(Dispersion parameter for binomial family taken to be 1)\n",
       "\n",
       "    Null deviance: 136.66  on 99  degrees of freedom\n",
       "Residual deviance: 107.35  on 98  degrees of freedom\n",
       "AIC: 111.35\n",
       "\n",
       "Number of Fisher Scoring iterations: 4\n"
      ]
     },
     "metadata": {},
     "output_type": "display_data"
    }
   ],
   "source": [
    "model <- glm(CHD ~ AGE, data = data, family = binomial)\n",
    "summary(model)\n"
   ]
  },
  {
   "attachments": {},
   "cell_type": "markdown",
   "metadata": {},
   "source": [
    "Cela va ajuster un modèle de régression logistique en utilisant la fonction \"glm\", avec la variable CHD comme variable réponse et l'âge comme variable explicative. En examinant le résumé des résultats, on peut voir que l'âge est significativement associé à la présence de maladie cardiovasculaire (p < 0,05). Le nombre de degrés de liberté pour la variable AGE est de 1, ce qui correspond au fait qu'il n'y a qu'une seule variable explicative continue dans ce modèle."
   ]
  },
  {
   "attachments": {},
   "cell_type": "markdown",
   "metadata": {},
   "source": [
    "5. Afin de mieux discerner les relations entre les différentes classes, il est demandé de \n",
    "représenter sur un même graphique les proportions selon la classe d’âge et la courbe \n",
    "logistique ajustée."
   ]
  },
  {
   "cell_type": "code",
   "execution_count": 130,
   "metadata": {
    "vscode": {
     "languageId": "r"
    }
   },
   "outputs": [
    {
     "data": {
      "image/png": "[encoded data removed]",
      "text/plain": [
       "plot without title"
      ]
     },
     "metadata": {
      "image/png": {
       "height": 420,
       "width": 420
      }
     },
     "output_type": "display_data"
    }
   ],
   "source": [
    "plot(center, proportions, xlab = \"Age group\", ylab = \"Proportion with CHD\", ylim = c(0, 1))\n",
    "curve(predict(model, data.frame(AGE = x), type = \"response\"), add = TRUE, col = \"red\")\n"
   ]
  },
  {
   "attachments": {},
   "cell_type": "markdown",
   "metadata": {},
   "source": [
    "6. Ajuster de même le modèle “probit” puis comparer les deux modèles. Commenter \n",
    "les résultats."
   ]
  },
  {
   "cell_type": "code",
   "execution_count": 131,
   "metadata": {
    "vscode": {
     "languageId": "r"
    }
   },
   "outputs": [
    {
     "data": {
      "text/plain": [
       "\n",
       "Call:\n",
       "glm(formula = CHD ~ AGE, family = binomial(link = probit), data = data)\n",
       "\n",
       "Deviance Residuals: \n",
       "    Min       1Q   Median       3Q      Max  \n",
       "-1.9713  -0.8608  -0.4499   0.8358   2.3269  \n",
       "\n",
       "Coefficients:\n",
       "            Estimate Std. Error z value Pr(>|z|)    \n",
       "(Intercept) -3.14573    0.62460  -5.036 4.74e-07 ***\n",
       "AGE          0.06580    0.01335   4.930 8.20e-07 ***\n",
       "---\n",
       "Signif. codes:  0 ‘***’ 0.001 ‘**’ 0.01 ‘*’ 0.05 ‘.’ 0.1 ‘ ’ 1\n",
       "\n",
       "(Dispersion parameter for binomial family taken to be 1)\n",
       "\n",
       "    Null deviance: 136.66  on 99  degrees of freedom\n",
       "Residual deviance: 107.50  on 98  degrees of freedom\n",
       "AIC: 111.5\n",
       "\n",
       "Number of Fisher Scoring iterations: 4\n"
      ]
     },
     "metadata": {},
     "output_type": "display_data"
    }
   ],
   "source": [
    "library(MASS)\n",
    "model2 <- glm(CHD ~ AGE, data = data, family = binomial(link = probit))\n",
    "summary(model2)\n"
   ]
  },
  {
   "cell_type": "code",
   "execution_count": 132,
   "metadata": {
    "vscode": {
     "languageId": "r"
    }
   },
   "outputs": [
    {
     "data": {
      "image/png": "[encoded data removed]",
      "text/plain": [
       "plot without title"
      ]
     },
     "metadata": {
      "image/png": {
       "height": 420,
       "width": 420
      }
     },
     "output_type": "display_data"
    }
   ],
   "source": [
    "plot(center, proportions, xlab = \"Age group\", ylab = \"Proportion with CHD\", ylim = c(0, 1))\n",
    "curve(predict(model, data.frame(AGE = x), type = \"response\"), add = TRUE, col = \"red\")\n",
    "curve(predict(model2, data.frame(AGE = x), type = \"response\"), add = TRUE,col=\"blue\")"
   ]
  },
  {
   "attachments": {},
   "cell_type": "markdown",
   "metadata": {},
   "source": [
    "Cela correspondra à un modèle de régression probit, qui est similaire au modèle de régression logistique mais utilise une fonction de lien différente pour transformer le prédicteur linéaire en probabilité."
   ]
  },
  {
   "attachments": {},
   "cell_type": "markdown",
   "metadata": {},
   "source": [
    "7. Estimer,  dans  chacun  des  deux  modèles  la  cote  d’un  individu  âgés  de  30  ans. \n",
    "Commenter. Estimer le rapport de cotes correspondant à la variable AGE. "
   ]
  },
  {
   "cell_type": "code",
   "execution_count": 133,
   "metadata": {
    "vscode": {
     "languageId": "r"
    }
   },
   "outputs": [
    {
     "data": {
      "text/html": [
       "<style>\n",
       ".dl-inline {width: auto; margin:0; padding: 0}\n",
       ".dl-inline>dt, .dl-inline>dd {float: none; width: auto; display: inline-block}\n",
       ".dl-inline>dt::after {content: \":\\0020\"; padding-right: .5ex}\n",
       ".dl-inline>dt:not(:first-of-type) {padding-left: .5ex}\n",
       "</style><dl class=dl-inline><dt>AGE</dt><dd>1.11730679503212</dd><dt>AGE</dt><dd>0.0262520896136547</dd></dl>\n"
      ],
      "text/latex": [
       "\\begin{description*}\n",
       "\\item[AGE] 1.11730679503212\n",
       "\\item[AGE] 0.0262520896136547\n",
       "\\end{description*}\n"
      ],
      "text/markdown": [
       "AGE\n",
       ":   1.11730679503212AGE\n",
       ":   0.0262520896136547\n",
       "\n"
      ],
      "text/plain": [
       "       AGE        AGE \n",
       "1.11730680 0.02625209 "
      ]
     },
     "metadata": {},
     "output_type": "display_data"
    }
   ],
   "source": [
    "newdata <- data.frame(AGE = 30) \n",
    "\n",
    "# Logistic regression\n",
    "logit_pred <- predict(model, newdata, type = \"link\")\n",
    "odds_logit <- exp(logit_pred)\n",
    "odds_ratio_logit <- exp(coef(model)[\"AGE\"])\n",
    "\n",
    "# Probit regression\n",
    "probit_pred <- predict(model2, newdata, type = \"link\")\n",
    "odds_probit <- exp(probit_pred)\n",
    "phi <- dnorm(0) # standard normal density at 0\n",
    "odds_ratio_probit <- phi * coef(model2)[\"AGE\"]\n",
    "vs<-c(odds_ratio_logit,odds_ratio_probit)\n",
    "vs\n"
   ]
  }
 ],
 "metadata": {
  "kernelspec": {
   "display_name": "R",
   "language": "R",
   "name": "ir"
  },
  "language_info": {
   "codemirror_mode": "r",
   "file_extension": ".r",
   "mimetype": "text/x-r-source",
   "name": "R",
   "pygments_lexer": "r",
   "version": "4.1.2"
  },
  "orig_nbformat": 4
 },
 "nbformat": 4,
 "nbformat_minor": 2
}
